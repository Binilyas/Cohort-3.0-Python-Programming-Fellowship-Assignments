{
 "cells": [
  {
   "cell_type": "markdown",
   "metadata": {},
   "source": [
    "# WELCOME TO PYTHON-CRASH COURSE CODE \n",
    "\n",
    "## **CHAPTER - VARIABLE, AND SIMPLE DATA TYPE**\n",
    "\n",
    "#### **WHAT IS VARIABLE**\n",
    "\n",
    "_Variable in python is like assigning value to somethings like in form of mathematics \"Saying let x = 7 or let y = 7\" in this case take your x or y as your variable name while 7 is the value assigned to variable name._\n",
    "##### **for examples**"
   ]
  },
  {
   "cell_type": "code",
   "execution_count": 1,
   "metadata": {},
   "outputs": [
    {
     "name": "stdout",
     "output_type": "stream",
     "text": [
      "Ilyasu\n",
      "Abdulrahman\n",
      "Welcome to Arewa Data Science Academy\n"
     ]
    }
   ],
   "source": [
    "first_name = \"Ilyasu\"\n",
    "Surname = \"Abdulrahman\"\n",
    "Message = \"Welcome to Arewa Data Science Academy\"\n",
    "print(first_name)\n",
    "print(Surname)\n",
    "print(Message)"
   ]
  },
  {
   "cell_type": "markdown",
   "metadata": {},
   "source": [
    "#### The Above example Shows examples of Variable \n",
    "* *first_name*\n",
    "* *surname*\n",
    "* *message*\n",
    "\n",
    "**are called the Variable name**\n",
    "\n",
    "##### *WHILE*\n",
    "1. *Ilyasu*\n",
    "2. *Abdulrahman*\n",
    "3. *Welcome to Arewa Data Science Academy*\n",
    "   \n",
    "**Are Called the value Assigned to Variable**\n",
    "\n",
    "### RULE IN NAMING VARIABLE \n",
    "1. Variable name can contains Alphabet, Number and underscore. The variable name can start with Alphabet(a-b) or underscore(_) but not with number **for example** *First_name* or *_first_name* **IS** better than *1_first_name*\n",
    "2. Variable name Should be short and descriptive **for example** *Serial_number* **IS** better than *s_n* and *first_name* **IS** Better then f_n\n",
    "3. Variable name should **NOT** Contains Python Keywords like the build in function **for example** _print function_ etc\n",
    "4. Avoid using of space in variable name as that will cause error the program make use of underscore when neccesary **for exapmle** Greating message will cause error while Greating_message will not cause error\n",
    "5. Becareful when using captila latter (O) and small letter (l) as both can be mistaken for 0 and 1 respectively"
   ]
  },
  {
   "cell_type": "markdown",
   "metadata": {},
   "source": [
    "# STRING\n",
    "A STRING: String in python is one the data type in python is the collection of text, character, number in single quote (' ') or Double quote (\" \") i.e anything inside a quote in python is called a string **for example**"
   ]
  },
  {
   "cell_type": "code",
   "execution_count": 1,
   "metadata": {},
   "outputs": [
    {
     "name": "stdout",
     "output_type": "stream",
     "text": [
      "This is a string\n",
      "This is also a string\n"
     ]
    }
   ],
   "source": [
    "print('This is a string')\n",
    "print(\"This is also a string\")"
   ]
  },
  {
   "cell_type": "markdown",
   "metadata": {},
   "source": [
    "## CHANGING CASE IN A STRING WITH METHOD\n",
    "One thing you can do with string when collecting data is changing case of letter in a string to either UPPERCASE, LOWERCASE and Tittle case by using _Method_ Build function in python **for example** The function is like this  **PRINT(NAME.UPPER())** Where\n",
    "- *Print* is just the function name telling python to execute\n",
    "- *name* is the name of the variable you want to chnage the case \n",
    "- *upper* is the method you want to give your variable the *the upper* can also be lower depending on the methpd you want to apply \n",
    "- *()* is the tittle telling python to carry out the method **CHECK BELOW FOR THE CODE**"
   ]
  },
  {
   "cell_type": "code",
   "execution_count": 4,
   "metadata": {},
   "outputs": [
    {
     "name": "stdout",
     "output_type": "stream",
     "text": [
      "ABDULRAHMAN\n",
      "this is arewa data science cohort 3\n",
      "Ilyasu Abdulrahman Adam Abu \n"
     ]
    }
   ],
   "source": [
    "#THIS CODE WILL CHANGE THIS TO UPPER CASE\n",
    "first_name = \"abdulrahman\"\n",
    "print(first_name.upper())\n",
    "\n",
    "\n",
    "#THIS CODE WILL CHANEGE THIS LOWER CASE\n",
    "Message = \"THIS IS AREWA DATA SCIENCE COHORT 3\"\n",
    "print(Message.lower())\n",
    "\n",
    "#THIS CODE WILL CHANGE THIS TO A TITTLE CASE (CAPITALSE EACH WORD)\n",
    "full_name = \"ILYASU ABDULRAHMAN ADAM ABU \"\n",
    "print(full_name.title())"
   ]
  }
 ],
 "metadata": {
  "kernelspec": {
   "display_name": "Python 3",
   "language": "python",
   "name": "python3"
  },
  "language_info": {
   "codemirror_mode": {
    "name": "ipython",
    "version": 3
   },
   "file_extension": ".py",
   "mimetype": "text/x-python",
   "name": "python",
   "nbconvert_exporter": "python",
   "pygments_lexer": "ipython3",
   "version": "3.13.0"
  }
 },
 "nbformat": 4,
 "nbformat_minor": 2
}
