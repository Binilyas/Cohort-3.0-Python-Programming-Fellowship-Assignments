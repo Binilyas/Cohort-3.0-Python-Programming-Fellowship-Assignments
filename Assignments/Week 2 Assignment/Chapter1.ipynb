{
 "cells": [
  {
   "cell_type": "markdown",
   "metadata": {},
   "source": [
    "# WELCOME TO PYTHON-CRASH COURSE CODE \n",
    "\n",
    "## **CHAPTER - VARIABLE, AND SIMPLE DATA TYPE**\n",
    "\n",
    "#### **WHAT IS VARIABLE**\n",
    "\n",
    "_Variable in python is like assigning value to somethings like in form of mathematics \"Saying let x = 7 or let y = 7\" in this case take your x or y as your variable name while 7 is the value assigned to variable name._\n",
    "##### **for examples**"
   ]
  },
  {
   "cell_type": "code",
   "execution_count": 1,
   "metadata": {},
   "outputs": [
    {
     "name": "stdout",
     "output_type": "stream",
     "text": [
      "Ilyasu\n",
      "Abdulrahman\n",
      "Welcome to Arewa Data Science Academy\n"
     ]
    }
   ],
   "source": [
    "first_name = \"Ilyasu\"\n",
    "Surname = \"Abdulrahman\"\n",
    "Message = \"Welcome to Arewa Data Science Academy\"\n",
    "print(first_name)\n",
    "print(Surname)\n",
    "print(Message)"
   ]
  },
  {
   "cell_type": "markdown",
   "metadata": {},
   "source": [
    "#### The Above example Shows examples of Variable \n",
    "* *first_name*\n",
    "* *surname*\n",
    "* *message*\n",
    "\n",
    "**are called the Variable name**\n",
    "\n",
    "##### *WHILE*\n",
    "1. *Ilyasu*\n",
    "2. *Abdulrahman*\n",
    "3. *Welcome to Arewa Data Science Academy*\n",
    "   \n",
    "**Are Called the value Assigned to Variable**\n",
    "\n",
    "### RULE IN NAMING VARIABLE \n",
    "1. Variable name can contains Alphabet, Number and underscore. The variable name can start with Alphabet(a-b) or underscore(_) but not with number **for example** *First_name* or *_first_name* **IS** better than *1_first_name*\n",
    "2. Variable name Should be short and descriptive **for example** *Serial_number* **IS** better than *s_n* and *first_name* **IS** Better then f_n\n",
    "3. Variable name should **NOT** Contains Python Keywords like the build in function **for example** _print function_ etc\n",
    "4. Avoid using of space in variable name as that will cause error the program make use of underscore when neccesary **for exapmle** Greating message will cause error while Greating_message will not cause error\n",
    "5. Becareful when using captila latter (O) and small letter (l) as both can be mistaken for 0 and 1 respectively"
   ]
  },
  {
   "cell_type": "markdown",
   "metadata": {},
   "source": [
    "# STRING\n",
    "A STRING: String in python is one the type in python is the collection of text, character, number in single quote (' ') or Double quote (\" \") i.e anything inside a quote in python is called a string"
   ]
  }
 ],
 "metadata": {
  "kernelspec": {
   "display_name": "Python 3",
   "language": "python",
   "name": "python3"
  },
  "language_info": {
   "codemirror_mode": {
    "name": "ipython",
    "version": 3
   },
   "file_extension": ".py",
   "mimetype": "text/x-python",
   "name": "python",
   "nbconvert_exporter": "python",
   "pygments_lexer": "ipython3",
   "version": "3.13.0"
  }
 },
 "nbformat": 4,
 "nbformat_minor": 2
}
