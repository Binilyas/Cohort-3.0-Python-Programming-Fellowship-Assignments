{
 "cells": [
  {
   "cell_type": "markdown",
   "metadata": {},
   "source": [
    "## 💻 Exercises: Module 9\n",
    "\n",
    "### Exercises: Level 1"
   ]
  },
  {
   "cell_type": "markdown",
   "metadata": {},
   "source": [
    "1. Declare a function _add_two_numbers_. It takes two parameters and it returns a sum. "
   ]
  },
  {
   "cell_type": "code",
   "execution_count": 1,
   "metadata": {},
   "outputs": [
    {
     "name": "stdout",
     "output_type": "stream",
     "text": [
      "The sum of two numbers is: 50\n"
     ]
    }
   ],
   "source": [
    "def two_num(a, b):\n",
    "    print(\"The sum of two numbers is:\", a + b)\n",
    "    \n",
    "two_num(10, 40)"
   ]
  },
  {
   "cell_type": "markdown",
   "metadata": {},
   "source": [
    "2. Area of a circle is calculated as follows: area = π x r x r. Write a function that calculates _area_of_circle_."
   ]
  },
  {
   "cell_type": "code",
   "execution_count": 1,
   "metadata": {},
   "outputs": [
    {
     "name": "stdout",
     "output_type": "stream",
     "text": [
      "The Area of circle is: 153.86\n"
     ]
    }
   ],
   "source": [
    "def area_of_circle(r):\n",
    "    pi = 3.14\n",
    "    area = pi * r**2\n",
    "    return area\n",
    "print(f'The Area of circle is: {area_of_circle(7)}')"
   ]
  },
  {
   "cell_type": "markdown",
   "metadata": {},
   "source": [
    "3. Write a function called add_all_nums which takes arbitrary number of arguments and sums all the arguments. Check if all the list items are number types. If not do give a reasonable feedback."
   ]
  },
  {
   "cell_type": "code",
   "execution_count": 8,
   "metadata": {},
   "outputs": [
    {
     "name": "stdout",
     "output_type": "stream",
     "text": [
      "The addition of numbers: 149\n",
      "______________________\n",
      "252\n"
     ]
    }
   ],
   "source": [
    "def add_all(*numbs):\n",
    "    total = sum(numbs)\n",
    "    return total\n",
    "print(f'The addition of numbers: {add_all(25, 25, 29, 70)}')\n",
    "print(\"______________________\")\n",
    "#OR \n",
    "def addition_all(*nums):\n",
    "    total = 0\n",
    "    for num in nums:\n",
    "        total +=num\n",
    "    return total\n",
    "print(addition_all(25, 19, 40, 70, 98))\n"
   ]
  },
  {
   "cell_type": "markdown",
   "metadata": {},
   "source": [
    "4. Temperature in °C can be converted to °F using this formula: °F = (°C x 9/5) + 32. Write a function which converts °C to °F, _convert_celsius_to-fahrenheit_."
   ]
  },
  {
   "cell_type": "code",
   "execution_count": 11,
   "metadata": {},
   "outputs": [
    {
     "name": "stdout",
     "output_type": "stream",
     "text": [
      "122.0\n"
     ]
    }
   ],
   "source": [
    "#Define a function name call CONVERT_CELSIUS_TO_FAHRENHEIT\n",
    "\n",
    "def convert_celsius_to_fahrenheit(c):           #Pass a prementer of Celsius\n",
    "    f = (c * 9 / 5) + 32                        #assigning the calculation to the block\n",
    "    return f\n",
    "print(convert_celsius_to_fahrenheit(50))          #Call the function to perform the task"
   ]
  },
  {
   "cell_type": "markdown",
   "metadata": {},
   "source": [
    "5. Write a function called check-season, it takes a month parameter and returns the season: Autumn, Winter, Spring or Summer."
   ]
  },
  {
   "cell_type": "code",
   "execution_count": 21,
   "metadata": {},
   "outputs": [
    {
     "name": "stdout",
     "output_type": "stream",
     "text": [
      "Spring\n"
     ]
    }
   ],
   "source": [
    "def check_season(month):\n",
    "    '''Season of Month'''\n",
    "    month = month.title()\n",
    "    if month in ('September', 'October', 'November'):\n",
    "        return \"Autumn\"\n",
    "    elif month in ('December', 'January', 'Fabuary'):\n",
    "        return'Winter'\n",
    "    elif month in ('March', 'April', 'May'):\n",
    "        return \"Spring\"\n",
    "    elif month in ('June', 'July', 'August'):\n",
    "        return \"Summer\"\n",
    "    else:\n",
    "        return \"The month does not exist check spelling month\"    \n",
    "    \n",
    "print(check_season('april'))"
   ]
  },
  {
   "cell_type": "markdown",
   "metadata": {},
   "source": [
    "6. Write a function called calculate_slope which return the slope of a linear equation"
   ]
  },
  {
   "cell_type": "code",
   "execution_count": 26,
   "metadata": {},
   "outputs": [
    {
     "name": "stdout",
     "output_type": "stream",
     "text": [
      "The Slope of a given value is: 4.800000000000001\n",
      "_____________________________\n",
      "The Slope of a given value is: 14.111111111111114\n"
     ]
    }
   ],
   "source": [
    "# Formula of slope of linear equation\n",
    "# slope_m = y2 - y1 / x2 - x1\n",
    "\n",
    "def slop_m(y2, y1, x2, x1):\n",
    "    slop_m = (f'The Slope of a given value is: {y2 - y1 / x2 - x1}')       #Calculating the slope\n",
    "    return slop_m\n",
    "\n",
    "# Call function\n",
    "print(slop_m(25, 10, 50, 20))\n",
    "print(\"_____________________________\")\n",
    "\n",
    "#using key value or Position argument\n",
    "print(slop_m(x1=25, x2= 90, y1= 80, y2=40))"
   ]
  },
  {
   "cell_type": "markdown",
   "metadata": {},
   "source": [
    "7. Quadratic equation is calculated as follows: ax² + bx + c = 0. Write a function which calculates solution set of a quadratic equation, _solve_quadratic_eqn_."
   ]
  },
  {
   "cell_type": "code",
   "execution_count": 33,
   "metadata": {},
   "outputs": [
    {
     "name": "stdout",
     "output_type": "stream",
     "text": [
      "The Roots are: (1.3663398378642617, -2.0330065045309285)\n"
     ]
    }
   ],
   "source": [
    "# using quadritic formula ax² + bx + c = 0.\n",
    "\n",
    "#declear a function called solved_quadratic_eqn\n",
    "\n",
    "import math\n",
    "def solve_quadratic_eqn(a, b, c):\n",
    "    \n",
    "    # Calculate the discriminant\n",
    "    discriminant = b**2 - 4*a*c\n",
    "    \n",
    "    # check if discriminant is non - negative numbers\n",
    "    if discriminant >=0:\n",
    "        root1 = (-b + math.sqrt(discriminant)) / (2 * a)\n",
    "        root2 = (-b - math.sqrt(discriminant)) / (2 * a)\n",
    "        return (root1, root2)\n",
    "    else:\n",
    "        # if discriminant is negative return complex roots\n",
    "        real_part = -b / (2 * a)\n",
    "        other_part = math.sqrt(-discriminant) / (2 * a)\n",
    "        return (real_part + other_part, real_part - other_part)\n",
    "\n",
    "print(f\"The Roots are: {solve_quadratic_eqn(9, 6, 27)}\")"
   ]
  },
  {
   "cell_type": "markdown",
   "metadata": {},
   "source": [
    "8. Declare a function named print_list. It takes a list as a parameter and it prints out each element of the list."
   ]
  },
  {
   "cell_type": "code",
   "execution_count": 41,
   "metadata": {},
   "outputs": [
    {
     "name": "stdout",
     "output_type": "stream",
     "text": [
      "Suleiman\n",
      "Abas\n"
     ]
    }
   ],
   "source": [
    "# declear list function\n",
    "\n",
    "def print_lists(*items):\n",
    "    for item in items:\n",
    "        print(item.title())\n",
    "    \n",
    "print_lists('suleiman', 'abas')"
   ]
  },
  {
   "cell_type": "markdown",
   "metadata": {},
   "source": [
    "9. Declare a function named reverse_list. It takes an array as a parameter and it returns the reverse of the array (use loops).\n",
    "\n",
    "```py\n",
    "print(reverse_list([1, 2, 3, 4, 5]))\n",
    "# [5, 4, 3, 2, 1]\n",
    "print(reverse_list1([\"A\", \"B\", \"C\"]))\n",
    "# [\"C\", \"B\", \"A\"]\n",
    "```"
   ]
  },
  {
   "cell_type": "code",
   "execution_count": 10,
   "metadata": {},
   "outputs": [
    {
     "name": "stdout",
     "output_type": "stream",
     "text": [
      "[10, 8, 6, 4, 25]\n",
      "['E', 'D', 'C', 'A']\n"
     ]
    }
   ],
   "source": [
    "def reverse_list(*items):\n",
    "    reverse_list = []\n",
    "    for x in range (len(items) -1, -1, -1):\n",
    "        reverse_list.append(items[x])\n",
    "    return reverse_list\n",
    "    \n",
    "print(reverse_list(25, 4, 6, 8, 10))\n",
    "print(reverse_list(\"A\", \"C\", \"D\", \"E\"))"
   ]
  },
  {
   "cell_type": "markdown",
   "metadata": {},
   "source": [
    "10. Declare a function named capitalize_list_items. It takes a list as a parameter and it returns a capitalized list of items"
   ]
  },
  {
   "cell_type": "code",
   "execution_count": 19,
   "metadata": {},
   "outputs": [
    {
     "name": "stdout",
     "output_type": "stream",
     "text": [
      "['Abas', 'Suleiman', 'Lahadi', 'Mufidat', 'Abdulrahman']\n"
     ]
    }
   ],
   "source": [
    "# 10. Declare a function named capitalize_list_items. It takes a list as a parameter and it returns a capitalized list of items\n",
    "\n",
    "def capitalize_list_items(lst):\n",
    "    capitalize_items = []\n",
    "    for i in lst:\n",
    "        capitalize_items.append(i.capitalize())\n",
    "    return capitalize_items\n",
    "\n",
    "print(capitalize_list_items(['abas', 'suleiman', 'lahadi', 'mufidat', 'abdulrahman']))"
   ]
  },
  {
   "cell_type": "markdown",
   "metadata": {},
   "source": [
    "11. Declare a function named add_item. It takes a list and an item parameters. It returns a list with the item added at the end.\n",
    "\n",
    "```py\n",
    "food_staff = ['Potato', 'Tomato', 'Mango', 'Milk']\n",
    "print(add_item(food_staff, 'Meat'))     # ['Potato', 'Tomato', 'Mango', 'Milk','Meat']\n",
    "numbers = [2, 3, 7, 9]\n",
    "print(add_item(numbers, 5))      [2, 3, 7, 9, 5]"
   ]
  },
  {
   "cell_type": "code",
   "execution_count": 22,
   "metadata": {},
   "outputs": [
    {
     "name": "stdout",
     "output_type": "stream",
     "text": [
      "['Potato', 'Tomato', 'Mango', 'Milk', 'Meat']\n",
      "[2, 3, 7, 9, 5]\n"
     ]
    }
   ],
   "source": [
    "def add_items(list, item):\n",
    "    new_list = []\n",
    "    for element in list:\n",
    "        new_list.append(element)\n",
    "    new_list.append(item)\n",
    "    return new_list\n",
    "food_staff = ['Potato', 'Tomato', 'Mango', 'Milk']\n",
    "print(add_items(food_staff, 'Meat'))\n",
    "numbers = [2, 3, 7, 9]\n",
    "print(add_items(numbers, 5))"
   ]
  },
  {
   "cell_type": "markdown",
   "metadata": {},
   "source": [
    "2. Declare a function named remove_item. It takes a list and an item parameters. It returns a list with the item removed from it.\n",
    "\n",
    "```py\n",
    "food_staff = ['Potato', 'Tomato', 'Mango', 'Milk']\n",
    "print(remove_item(food_staff, 'Mango'))\n",
    "numbers = [2, 3, 7, 9]\n",
    "print(remove_item(numbers, 3))  "
   ]
  },
  {
   "cell_type": "code",
   "execution_count": 29,
   "metadata": {},
   "outputs": [
    {
     "name": "stdout",
     "output_type": "stream",
     "text": [
      "['Potato', 'Tomato', 'Milk']\n",
      "[2, 7, 9]\n"
     ]
    }
   ],
   "source": [
    "def remove_items(items, ritem):\n",
    "    remove = []\n",
    "    for item in items:\n",
    "        remove.append(item)\n",
    "    remove.remove(ritem)\n",
    "    return remove\n",
    "\n",
    "food_staff = ['Potato', 'Tomato', 'Mango', 'Milk']\n",
    "print(remove_items(food_staff, 'Mango'))\n",
    "numbers = [2, 3, 7, 9]\n",
    "print(remove_items(numbers, 3)) "
   ]
  },
  {
   "cell_type": "markdown",
   "metadata": {},
   "source": [
    "13. Declare a function named sum_of_numbers. It takes a number parameter and it adds all the numbers in that range.\n",
    "\n",
    "```py\n",
    "print(sum_of_numbers(5))  # 15\n",
    "print(sum_of_numbers(10)) # 55\n",
    "print(sum_of_numbers(100)) # 5050"
   ]
  },
  {
   "cell_type": "code",
   "execution_count": 4,
   "metadata": {},
   "outputs": [
    {
     "name": "stdout",
     "output_type": "stream",
     "text": [
      "15\n",
      "55\n",
      "5050\n"
     ]
    }
   ],
   "source": [
    "def sum_of_numbers(numbers):\n",
    "    total = 0\n",
    "    for num in range(numbers + 1):\n",
    "        total +=num\n",
    "    return total\n",
    "print(sum_of_numbers(5))  # 15\n",
    "print(sum_of_numbers(10)) # 55\n",
    "print(sum_of_numbers(100)) # 5050"
   ]
  },
  {
   "cell_type": "markdown",
   "metadata": {},
   "source": [
    "14. Declare a function named sum_of_odds. It takes a number parameter and it adds all the odd numbers in that range."
   ]
  },
  {
   "cell_type": "code",
   "execution_count": 15,
   "metadata": {},
   "outputs": [
    {
     "name": "stdout",
     "output_type": "stream",
     "text": [
      "The Sum of odd number in 5 is: 9\n",
      "The Sum of odd number in 10 is: 25\n",
      "The Sum of odd number in 100 is: 2500\n"
     ]
    }
   ],
   "source": [
    "#14. Declare a function named sum_of_odds. It takes a number parameter and it adds all the odd numbers in that range.\n",
    "\n",
    "def sum_odd(x):\n",
    "    odd = 0\n",
    "    for i in range(x + 1):\n",
    "        if i % 2 != 0:\n",
    "            odd +=i\n",
    "    return odd\n",
    "print(f\"The Sum of odd number in 5 is: {sum_odd(5)}\")\n",
    "print(f\"The Sum of odd number in 10 is: {sum_odd(10)}\")\n",
    "print(f\"The Sum of odd number in 100 is: {sum_odd(100)}\")"
   ]
  },
  {
   "cell_type": "markdown",
   "metadata": {},
   "source": [
    "15. Declare a function named sum_of_even. It takes a number parameter and it adds all the even numbers in that - range"
   ]
  },
  {
   "cell_type": "code",
   "execution_count": 13,
   "metadata": {},
   "outputs": [
    {
     "name": "stdout",
     "output_type": "stream",
     "text": [
      "The sum of even number in 5 is: 6\n",
      "The sum of even number in 10 is: 30\n",
      "The sum of even number in 100 is: 2550\n"
     ]
    }
   ],
   "source": [
    "#15. Declare a function named sum_of_even. It takes a number parameter and it adds all the even numbers in that - range.\n",
    "\n",
    "def sum_of_even(n):\n",
    "    even = 0\n",
    "    for number in range(n + 1):\n",
    "        if number % 2 == 0:\n",
    "            even +=number\n",
    "    return even\n",
    "    \n",
    "print(f'The sum of even number in 5 is: {sum_of_even(5)}')\n",
    "print(f'The sum of even number in 10 is: {sum_of_even(10)}')\n",
    "print(f'The sum of even number in 100 is: {sum_of_even(100)}')"
   ]
  },
  {
   "cell_type": "code",
   "execution_count": 16,
   "metadata": {},
   "outputs": [
    {
     "name": "stdout",
     "output_type": "stream",
     "text": [
      "______COMPLETE LEVEL ON_________\n"
     ]
    }
   ],
   "source": [
    "print(\"______COMPLETE LEVEL ON_________\")"
   ]
  },
  {
   "cell_type": "markdown",
   "metadata": {},
   "source": [
    "### Exercises: Level 2"
   ]
  },
  {
   "cell_type": "markdown",
   "metadata": {},
   "source": [
    "1. Declare a function named evens_and_odds . It takes a positive integer as parameter and it counts number of evens and odds in the number.\n",
    "\n",
    "```py\n",
    "    print(evens_and_odds(100))\n",
    "    # The number of odds are 50.\n",
    "    # The number of evens are 51.\n",
    "```"
   ]
  },
  {
   "cell_type": "code",
   "execution_count": 21,
   "metadata": {},
   "outputs": [
    {
     "name": "stdout",
     "output_type": "stream",
     "text": [
      "The total even and odd number in 100 are: (51, 50)\n"
     ]
    }
   ],
   "source": [
    "# 1. Declare a function named evens_and_odds . It takes a positive integer as parameter and it counts number of evens and odds in the number.\n",
    "\n",
    "def evens_and_odds(y):\n",
    "    evens = 0\n",
    "    odds = 0\n",
    "    for e in range(y + 1):\n",
    "        if e % 2 == 0:\n",
    "            evens +=1\n",
    "        else:\n",
    "            odds +=1\n",
    "    return evens, odds\n",
    "\n",
    "print(f'The total even and odd number in 100 are: {evens_and_odds(100)}')"
   ]
  },
  {
   "cell_type": "markdown",
   "metadata": {},
   "source": [
    "2. Call your function factorial, it takes a whole number as a parameter and it return a factorial of the number"
   ]
  },
  {
   "cell_type": "code",
   "execution_count": 27,
   "metadata": {},
   "outputs": [
    {
     "name": "stdout",
     "output_type": "stream",
     "text": [
      "5040\n"
     ]
    }
   ],
   "source": [
    "#Call your function factorial, it takes a whole number as a parameter and it return a factorial of the number\n",
    "def factorial(f):\n",
    "    if f == 1 or f == 0:\n",
    "        return 1\n",
    "    else:\n",
    "        return f * factorial(f - 1)\n",
    "print(factorial(7))"
   ]
  },
  {
   "cell_type": "markdown",
   "metadata": {},
   "source": [
    "3. Call your function _is_empty_, it takes a parameter and it checks if it is empty or not"
   ]
  },
  {
   "cell_type": "code",
   "execution_count": 39,
   "metadata": {},
   "outputs": [
    {
     "name": "stdout",
     "output_type": "stream",
     "text": [
      "True\n",
      "False\n"
     ]
    }
   ],
   "source": [
    "def is_empty(text):\n",
    "    if text:\n",
    "        return True\n",
    "    else:\n",
    "        return False\n",
    "print(is_empty(\"Abdulrahman\"))\n",
    "print(is_empty([]))"
   ]
  },
  {
   "cell_type": "markdown",
   "metadata": {},
   "source": [
    "4. Write different functions which take lists. They should calculate_mean, calculate_median, calculate_mode, calculate_range, calculate_variance, calculate_std (standard deviation)."
   ]
  },
  {
   "cell_type": "code",
   "execution_count": 24,
   "metadata": {},
   "outputs": [
    {
     "name": "stdout",
     "output_type": "stream",
     "text": [
      "The mean of calculated value are as follows:\n",
      "31.8\n",
      "7.6\n",
      "16.0\n",
      "_______________________________\n",
      "The mean of calculated value are as follows: using the method 2\n",
      "31.8\n",
      "7.6\n",
      "16.0\n",
      "_______________________________\n",
      "\n",
      "The median for the following list of values.\n",
      "5\n",
      "17\n",
      "Variance: 8.0\n",
      "Standard Deviation: 2.8284\n"
     ]
    }
   ],
   "source": [
    "def calculate_mean(numbers):\n",
    "    numbers.sort()\n",
    "    sum_num = sum(numbers)\n",
    "    length = len(numbers)\n",
    "    mean = sum_num / length\n",
    "    return mean\n",
    "    \n",
    "# call the function\n",
    "print(\"The mean of calculated value are as follows:\")\n",
    "print(calculate_mean([25,26,40,23,45]))\n",
    "print(calculate_mean([21,2,2,5,8]))\n",
    "print(calculate_mean([25,22,10,3,20]))\n",
    "print(\"_______________________________\")\n",
    "\n",
    "#Alternative for def mean function\n",
    "def calculate_mean2(l):\n",
    "    total = 0\n",
    "    for x in l:\n",
    "        total +=x\n",
    "    mean = total / len(l)\n",
    "    return mean    \n",
    "print(\"The mean of calculated value are as follows: using the method 2\")\n",
    "print(calculate_mean2([25,26,40,23,45]))\n",
    "print(calculate_mean2([21,2,2,5,8]))\n",
    "print(calculate_mean2([25,22,10,3,20]))\n",
    "print(\"_______________________________\")\n",
    "\n",
    "# define a function\n",
    "def calculate_median(numbers):\n",
    "    numbers.sort() # sort the numbers from smallest to largest\n",
    "    length = len(numbers)\n",
    "    median0 = numbers[length//2] # median if the number length is odd\n",
    "    if length % 2 == 0:  # check for even if the length is even\n",
    "        median1 = numbers[length//2 - 1]  # first median number\n",
    "        median2 = numbers[length//2]       # second median number\n",
    "        median = (median1 + median2)/2\n",
    "        return median\n",
    "    else:\n",
    "        return numbers[length//2]\n",
    "\n",
    "# function call\n",
    "print('\\nThe median for the following list of values.')\n",
    "print(calculate_median([1,8,2,3,23,4,5,6,7]))\n",
    "\n",
    "\n",
    "\n",
    "def calculate_range(numbers):\n",
    "    '''Function to calculate the range of values'''\n",
    "    if len(numbers) == 0: # check if list length == 0, \n",
    "        return ('Invalide range')\n",
    "    else:\n",
    "        max_value = max(numbers)\n",
    "        min_value = min(numbers)\n",
    "        range = max_value - min_value\n",
    "        return range\n",
    "    \n",
    "    \n",
    "    # function call\n",
    "print(calculate_range([1,3,7,13,18])) \n",
    "# function that calculate variance\n",
    "def calculate_variance(numbers):\n",
    "    '''Function to calculate the variance of a list of numbers'''\n",
    "    if len(numbers) == 0:  # Check if the list is empty\n",
    "        return None  # Return None if the list is empty\n",
    "\n",
    "    # Calculate the mean\n",
    "    mean = sum(numbers) / len(numbers)\n",
    "\n",
    "    # Calculate the squared differences from the mean\n",
    "    squared_differences = [(x - mean) ** 2 for x in numbers]\n",
    "\n",
    "    # Step 3: Calculate the variance\n",
    "    variance = sum(squared_differences) / len(numbers)\n",
    "\n",
    "    return variance\n",
    "\n",
    "def calculate_standard_deviation(numbers):\n",
    "    '''Function to calculate the standard deviation of a list of numbers'''\n",
    "    variance = calculate_variance(numbers)\n",
    "\n",
    "    if variance is None:  # If variance is None, return None\n",
    "        return None\n",
    "\n",
    "    # Step 1: Calculate the standard deviation\n",
    "    std_deviation = variance ** 0.5  # Square root of variance\n",
    "\n",
    "    return std_deviation\n",
    "\n",
    "# Function calls\n",
    "numbers = [2, 4, 6, 8, 10]\n",
    "\n",
    "# Calculate variance\n",
    "variance = calculate_variance(numbers)\n",
    "print(f\"Variance: {variance}\") \n",
    "\n",
    "# Calculate standard deviation\n",
    "std_deviation = calculate_standard_deviation(numbers)\n",
    "print(f\"Standard Deviation: {std_deviation:.4f}\")  \n"
   ]
  },
  {
   "cell_type": "code",
   "execution_count": 25,
   "metadata": {},
   "outputs": [
    {
     "name": "stdout",
     "output_type": "stream",
     "text": [
      "Mode: [2, 4]\n",
      "Mode: [1, 3]\n",
      "Mode: None\n"
     ]
    }
   ],
   "source": [
    "def calculate_mode(numbers):\n",
    "    '''Function to calculate the mode of a list of numbers'''\n",
    "    if len(numbers) == 0:  # Check if the list is empty\n",
    "        return None  # Return None if the list is empty\n",
    "\n",
    "    # Create a dictionary to count occurrences of each number\n",
    "    frequency = {}\n",
    "    for number in numbers:\n",
    "        if number in frequency:\n",
    "            frequency[number] += 1  # Increment count if the number exists in the dictionary\n",
    "        else:\n",
    "            frequency[number] = 1  # Initialize count to 1 if the number is new\n",
    "\n",
    "    # Find the number(s) with the highest frequency\n",
    "    max_frequency = max(frequency.values())  # Find the highest count\n",
    "    mode = [key for key, value in frequency.items() if value == max_frequency]  # Get all keys with the highest count\n",
    "\n",
    "    # If multiple numbers have the same highest frequency, return all of them\n",
    "    if len(mode) == 1:\n",
    "        return mode[0]  # Return the single mode\n",
    "    return mode  # Return a list of modes if there are multiple\n",
    "\n",
    "# Function calls\n",
    "numbers1 = [1, 2, 2, 3, 4, 4, 5]\n",
    "numbers2 = [1, 1, 1, 2, 3, 3, 3]\n",
    "numbers3 = []\n",
    "\n",
    "print(f\"Mode: {calculate_mode(numbers1)}\")  \n",
    "print(f\"Mode: {calculate_mode(numbers2)}\") \n",
    "print(f\"Mode: {calculate_mode(numbers3)}\") "
   ]
  },
  {
   "cell_type": "markdown",
   "metadata": {
    "notebookRunGroups": {
     "groupValue": "1"
    }
   },
   "source": [
    "### Exercises: Level 3"
   ]
  },
  {
   "cell_type": "markdown",
   "metadata": {},
   "source": [
    "1. Write a function called is_prime, which checks if a number is prime."
   ]
  },
  {
   "cell_type": "code",
   "execution_count": 27,
   "metadata": {},
   "outputs": [
    {
     "name": "stdout",
     "output_type": "stream",
     "text": [
      "The number, 40 is not prime number\n"
     ]
    }
   ],
   "source": [
    "def is_prime(number):\n",
    "    '''function to check for prime number'''\n",
    "    if number == 2:         #  if number == 2, it prime\n",
    "        return (f'The number, {number} is prime number')\n",
    "    elif number < 2:\n",
    "        return (f'The number, {number} is not prime number')\n",
    "    for i in range(2,number +1):                    # looping througt range of values inclusive of the number to check for\n",
    "        if number % i == 0:\n",
    "            return (f'The number, {number} is not prime number')\n",
    "        else:\n",
    "            return (f'The number, {number} is prime number')\n",
    "# function call\n",
    "print(is_prime(40))"
   ]
  },
  {
   "cell_type": "markdown",
   "metadata": {},
   "source": [
    "2. Write a functions which checks if all items are unique in the list."
   ]
  },
  {
   "cell_type": "code",
   "execution_count": 28,
   "metadata": {},
   "outputs": [
    {
     "name": "stdout",
     "output_type": "stream",
     "text": [
      "False\n",
      "False\n",
      "True\n"
     ]
    }
   ],
   "source": [
    "def unique_values(numbers):\n",
    "    '''Function to check for unique values. len(numbers)==len(set(numbers))'''\n",
    "    empty_set = set()  # empty set to remove duplicate of numbers\n",
    "    for number in numbers:     # loop through the list of numbers\n",
    "        if number in empty_set:            # check for number in list of numbers\n",
    "            return False  \n",
    "        else:\n",
    "            empty_set.add(number)\n",
    "    return True\n",
    "# function call\n",
    "print(unique_values([2,5,4,4]))\n",
    "print(unique_values([2, 5, 2, 7, 8]))  \n",
    "print(unique_values([2, 5, 7, 8])) "
   ]
  },
  {
   "cell_type": "markdown",
   "metadata": {},
   "source": [
    "3.  Write a function which checks if all the items of the list are of the same data type."
   ]
  },
  {
   "cell_type": "code",
   "execution_count": 29,
   "metadata": {},
   "outputs": [
    {
     "name": "stdout",
     "output_type": "stream",
     "text": [
      "True\n",
      "False\n",
      "True\n"
     ]
    }
   ],
   "source": [
    "def same_data_type(items):\n",
    "    '''attempt to check all data types of a list'''\n",
    "    if not items: # handling empty list\n",
    "        return True \n",
    "    first_item = type(items[0]) # checking the data type of the first item in a list of items\n",
    "    for item in items:             # loop througt list of items\n",
    "        if type(item) != first_item:      # check the first and last item contain the same data type\n",
    "            return False\n",
    "    else:\n",
    "        return True\n",
    "# function call\n",
    "print(same_data_type([1,2,3,4]))\n",
    "print(same_data_type([1,'mango',3,4]))\n",
    "print(same_data_type([]))"
   ]
  },
  {
   "cell_type": "markdown",
   "metadata": {},
   "source": [
    "4.  Write a function which check if provided variable is a valid python variable"
   ]
  },
  {
   "cell_type": "code",
   "execution_count": 30,
   "metadata": {},
   "outputs": [
    {
     "name": "stdout",
     "output_type": "stream",
     "text": [
      "True\n",
      "False\n",
      "False\n",
      "True\n"
     ]
    }
   ],
   "source": [
    "import keyword\n",
    "\n",
    "def is_valid_variable(var_name):\n",
    "    '''Function to check if a provided variable name is valid in Python'''\n",
    "    if len(var_name) == 0:\n",
    "        return ('No variable name provied')\n",
    "    if keyword.iskeyword(var_name): \n",
    "        return False  # Return False if it's a Python reserved keyword\n",
    "    if var_name.isidentifier():  \n",
    "        return True  # Return True if it follow identifier rules\n",
    "    else:\n",
    "        return False  # If it passes all checks, it is valid\n",
    "\n",
    "# Function calls\n",
    "print(is_valid_variable(\"variable1\"))    \n",
    "print(is_valid_variable(\"1variable\"))    \n",
    "print(is_valid_variable(\"for\"))          \n",
    "print(is_valid_variable(\"_private_var\")) \n",
    "    "
   ]
  },
  {
   "cell_type": "markdown",
   "metadata": {},
   "source": [
    "5. Go to the data folder and access the countries-data.py file.\n",
    "\n",
    "- Create a function called the most_spoken_languages in the world. It should return 10 or 20 most spoken languages in the world in descending order\n",
    "- Create a function called the most_populated_countries. It should return 10 or 20 most populated countries in descending order."
   ]
  },
  {
   "cell_type": "code",
   "execution_count": 31,
   "metadata": {},
   "outputs": [
    {
     "name": "stdout",
     "output_type": "stream",
     "text": [
      "Most Spoken Languages:\n",
      "English: 91\n",
      "French: 45\n",
      "Arabic: 25\n",
      "Spanish: 24\n",
      "Portuguese: 9\n",
      "Russian: 9\n",
      "Dutch: 8\n",
      "German: 7\n",
      "Chinese: 5\n",
      "Serbian: 4\n"
     ]
    }
   ],
   "source": [
    "from countries_data import countries_data\n",
    "from collections import Counter\n",
    "\n",
    "def most_spoken_languages(data, top_n=10):\n",
    "    language_counts = Counter()  # A dictionary-like object to count occurrences\n",
    "    \n",
    "    for country in data:  # Loop through all countries\n",
    "        language_counts.update(country[\"languages\"])  # Count languages\n",
    "    \n",
    "    # Get the top `top_n` languages sorted by count in descending order\n",
    "    return language_counts.most_common(top_n)\n",
    "\n",
    "# Most spoken languages\n",
    "print(\"Most Spoken Languages:\")\n",
    "for language, count in most_spoken_languages(countries_data, top_n=10):\n",
    "    print(f\"{language}: {count}\")"
   ]
  },
  {
   "cell_type": "code",
   "execution_count": 32,
   "metadata": {},
   "outputs": [
    {
     "name": "stdout",
     "output_type": "stream",
     "text": [
      "\n",
      "Most Populated Countries:\n",
      "China: 1,377,422,166\n",
      "India: 1,295,210,000\n",
      "United States of America: 323,947,000\n",
      "Indonesia: 258,705,000\n",
      "Brazil: 206,135,893\n",
      "Pakistan: 194,125,062\n",
      "Nigeria: 186,988,000\n",
      "Bangladesh: 161,006,790\n",
      "Russian Federation: 146,599,183\n",
      "Japan: 126,960,000\n"
     ]
    }
   ],
   "source": [
    "def most_populated_countries(data, top_n=10):\n",
    "    # Sort the countries by population in descending order\n",
    "    sorted_countries = sorted(data, key=lambda x: x[\"population\"], reverse=True)\n",
    "    \n",
    "    return sorted_countries[:top_n]  # Return the top `n` countries\n",
    "\n",
    "# Most populated countries\n",
    "print(\"\\nMost Populated Countries:\")\n",
    "for country in most_populated_countries(countries_data, top_n=10):\n",
    "    print(f\"{country['name']}: {country['population']:,}\")"
   ]
  },
  {
   "cell_type": "markdown",
   "metadata": {},
   "source": [
    "### LIST COMPREHENSION EXERCISES"
   ]
  },
  {
   "cell_type": "markdown",
   "metadata": {},
   "source": [
    "1. Filter only negative and zero in the list using list comprehension"
   ]
  },
  {
   "cell_type": "code",
   "execution_count": null,
   "metadata": {},
   "outputs": [],
   "source": []
  },
  {
   "cell_type": "markdown",
   "metadata": {},
   "source": [
    "2. Flatten the following list of lists of lists to a one dimensional list :\n",
    "\n",
    "   ```py\n",
    "   list_of_lists =[[[1, 2, 3]], [[4, 5, 6]], [[7, 8, 9]]]\n",
    "\n",
    "   output\n",
    "   [1, 2, 3, 4, 5, 6, 7, 8, 9]"
   ]
  },
  {
   "cell_type": "code",
   "execution_count": null,
   "metadata": {},
   "outputs": [],
   "source": []
  },
  {
   "cell_type": "markdown",
   "metadata": {},
   "source": [
    "Using list comprehension create the following list of tuples:\n",
    "   ```py\n",
    "   [(0, 1, 0, 0, 0, 0, 0),\n",
    "   (1, 1, 1, 1, 1, 1, 1),\n",
    "   (2, 1, 2, 4, 8, 16, 32),\n",
    "   (3, 1, 3, 9, 27, 81, 243),\n",
    "   (4, 1, 4, 16, 64, 256, 1024),\n",
    "   (5, 1, 5, 25, 125, 625, 3125),\n",
    "   (6, 1, 6, 36, 216, 1296, 7776),\n",
    "   (7, 1, 7, 49, 343, 2401, 16807),\n",
    "   (8, 1, 8, 64, 512, 4096, 32768),\n",
    "   (9, 1, 9, 81, 729, 6561, 59049),\n",
    "   (10, 1, 10, 100, 1000, 10000, 100000)]\n",
    "   ```"
   ]
  },
  {
   "cell_type": "code",
   "execution_count": null,
   "metadata": {},
   "outputs": [],
   "source": []
  },
  {
   "cell_type": "markdown",
   "metadata": {},
   "source": [
    "4. Flatten the following list to a new list:\n",
    "   ```py\n",
    "   countries = [[('Finland', 'Helsinki')], [('Sweden', 'Stockholm')], [('Norway', 'Oslo')]]\n",
    "   output:\n",
    "   [['FINLAND','FIN', 'HELSINKI'], ['SWEDEN', 'SWE', 'STOCKHOLM'], ['NORWAY', 'NOR', 'OSLO']]\n",
    "   ```"
   ]
  },
  {
   "cell_type": "code",
   "execution_count": null,
   "metadata": {},
   "outputs": [],
   "source": []
  },
  {
   "cell_type": "markdown",
   "metadata": {},
   "source": [
    "5. Change the following list to a list of dictionaries:\n",
    "   ```py\n",
    "   countries = [[('Finland', 'Helsinki')], [('Sweden', 'Stockholm')], [('Norway', 'Oslo')]]\n",
    "   output:\n",
    "   [{'country': 'FINLAND', 'city': 'HELSINKI'},\n",
    "   {'country': 'SWEDEN', 'city': 'STOCKHOLM'},\n",
    "   {'country': 'NORWAY', 'city': 'OSLO'}]\n",
    "   ```"
   ]
  },
  {
   "cell_type": "code",
   "execution_count": null,
   "metadata": {},
   "outputs": [],
   "source": []
  },
  {
   "cell_type": "markdown",
   "metadata": {},
   "source": [
    "6. Change the following list of lists to a list of concatenated strings:\n",
    "   ```py\n",
    "   names = [[('Asabeneh', 'Yetayeh')], [('David', 'Smith')], [('Donald', 'Trump')], [('Bill', 'Gates')]]\n",
    "   output\n",
    "   ['Asabeneh Yetaeyeh', 'David Smith', 'Donald Trump', 'Bill Gates']\n",
    "   ```"
   ]
  },
  {
   "cell_type": "code",
   "execution_count": null,
   "metadata": {},
   "outputs": [],
   "source": []
  },
  {
   "cell_type": "markdown",
   "metadata": {},
   "source": [
    "7. Write a lambda function which can solve a slope or y-intercept of linear functions."
   ]
  },
  {
   "cell_type": "code",
   "execution_count": null,
   "metadata": {},
   "outputs": [],
   "source": []
  },
  {
   "cell_type": "markdown",
   "metadata": {},
   "source": [
    "##### Complete Module 9"
   ]
  }
 ],
 "metadata": {
  "kernelspec": {
   "display_name": "Arewa-work-space",
   "language": "python",
   "name": "python3"
  },
  "language_info": {
   "codemirror_mode": {
    "name": "ipython",
    "version": 3
   },
   "file_extension": ".py",
   "mimetype": "text/x-python",
   "name": "python",
   "nbconvert_exporter": "python",
   "pygments_lexer": "ipython3",
   "version": "3.12.7"
  }
 },
 "nbformat": 4,
 "nbformat_minor": 2
}
