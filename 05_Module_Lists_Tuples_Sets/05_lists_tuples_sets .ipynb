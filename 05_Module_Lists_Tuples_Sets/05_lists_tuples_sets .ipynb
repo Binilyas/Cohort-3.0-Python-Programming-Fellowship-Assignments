{
 "cells": [
  {
   "cell_type": "markdown",
   "metadata": {},
   "source": [
    "# WELCOME TO MY MODULE 5 30DAYS OF PYTHON PROGRAMING\n",
    "\n",
    "## 💻 Exercises: Module 5\n",
    "\n",
    "### Exercises: Level 1"
   ]
  },
  {
   "cell_type": "markdown",
   "metadata": {},
   "source": [
    "1. Declare an empty list"
   ]
  },
  {
   "cell_type": "code",
   "execution_count": 58,
   "metadata": {},
   "outputs": [
    {
     "name": "stdout",
     "output_type": "stream",
     "text": [
      "[]\n"
     ]
    }
   ],
   "source": [
    "#Declare an empty list\n",
    "\n",
    "empty = []\n",
    "print(empty)"
   ]
  },
  {
   "cell_type": "markdown",
   "metadata": {},
   "source": [
    "2. Declare a list with more than 5 items"
   ]
  },
  {
   "cell_type": "code",
   "execution_count": 59,
   "metadata": {},
   "outputs": [
    {
     "name": "stdout",
     "output_type": "stream",
     "text": [
      "['chemistry', 'atomic habit', 'productive muslim', 'daily azkar,', 'pyhiscs']\n"
     ]
    }
   ],
   "source": [
    "#2. Declare a list with more than 5 items\n",
    "books = ['chemistry', 'atomic habit', 'productive muslim', 'daily azkar,', 'pyhiscs']\n",
    "print(books)"
   ]
  },
  {
   "cell_type": "markdown",
   "metadata": {},
   "source": [
    "3. Find the length of your list"
   ]
  },
  {
   "cell_type": "code",
   "execution_count": 60,
   "metadata": {},
   "outputs": [
    {
     "name": "stdout",
     "output_type": "stream",
     "text": [
      "5\n"
     ]
    }
   ],
   "source": [
    "#3. Find the length of your list\n",
    "books = ['chemistry', 'atomic habit', 'productive muslim', 'daily azkar,', 'pyhiscs']\n",
    "print(len(books))"
   ]
  },
  {
   "cell_type": "markdown",
   "metadata": {},
   "source": [
    "4. Get the first item, the middle item and the last item of the list"
   ]
  },
  {
   "cell_type": "code",
   "execution_count": 61,
   "metadata": {},
   "outputs": [
    {
     "name": "stdout",
     "output_type": "stream",
     "text": [
      "chemistry\n",
      "daily azkar,\n",
      "pyhiscs\n"
     ]
    }
   ],
   "source": [
    "#4. Get the first item, the middle item and the last item of the list\n",
    "books = ['chemistry', 'atomic habit', 'productive muslim', 'daily azkar,', 'pyhiscs']\n",
    "print(books[0])         #first item\n",
    "print(books[3])         #middle item\n",
    "print(books[-1])        #last item"
   ]
  },
  {
   "cell_type": "markdown",
   "metadata": {},
   "source": [
    "5. Declare a list called mixed_data_types, put your(name, age, height, marital status, address)"
   ]
  },
  {
   "cell_type": "code",
   "execution_count": 62,
   "metadata": {},
   "outputs": [
    {
     "name": "stdout",
     "output_type": "stream",
     "text": [
      "<class 'list'>\n"
     ]
    }
   ],
   "source": [
    "#5. Declare a list called mixed_data_types, put your(name, age, height, marital status, address)\n",
    "mixed_data_types = [\"Abdulrahman\", \"26 years old\", 1.78, \"single\", \"Kogi State\"]\n",
    "print(type(mixed_data_types))"
   ]
  },
  {
   "cell_type": "markdown",
   "metadata": {},
   "source": [
    "6. Declare a list variable named it_companies and assign initial values Facebook, Google, Microsoft, Apple, IBM, Oracle and Amazon."
   ]
  },
  {
   "cell_type": "code",
   "execution_count": 63,
   "metadata": {},
   "outputs": [
    {
     "name": "stdout",
     "output_type": "stream",
     "text": [
      "['facebook', 'google', 'microsoft', 'apple', 'ibm', 'oracle', 'amazon']\n"
     ]
    }
   ],
   "source": [
    "#6. Declare a list variable named it_companies and assign initial values Facebook, Google, Microsoft, Apple, IBM, Oracle and Amazon.\n",
    "\n",
    "companies = ['facebook', 'google', 'microsoft', 'apple', 'ibm', 'oracle', 'amazon']\n",
    "print(companies)"
   ]
  },
  {
   "cell_type": "markdown",
   "metadata": {},
   "source": [
    "7. Print the list using _print()_"
   ]
  },
  {
   "cell_type": "code",
   "execution_count": 64,
   "metadata": {},
   "outputs": [
    {
     "name": "stdout",
     "output_type": "stream",
     "text": [
      "['facebook', 'google', 'microsoft', 'apple', 'ibm', 'oracle', 'amazon']\n"
     ]
    }
   ],
   "source": [
    "#7. Print the list using _print()_\n",
    "companies = ['facebook', 'google', 'microsoft', 'apple', 'ibm', 'oracle', 'amazon']\n",
    "print(companies)"
   ]
  },
  {
   "cell_type": "markdown",
   "metadata": {},
   "source": [
    "8. Print the number of companies in the list"
   ]
  },
  {
   "cell_type": "code",
   "execution_count": 65,
   "metadata": {},
   "outputs": [
    {
     "name": "stdout",
     "output_type": "stream",
     "text": [
      "7\n"
     ]
    }
   ],
   "source": [
    "#8. Print the number of companies in the list\n",
    "\n",
    "companies = ['facebook', 'google', 'microsoft', 'apple', 'ibm', 'oracle', 'amazon']\n",
    "print(len(companies))"
   ]
  },
  {
   "cell_type": "markdown",
   "metadata": {},
   "source": [
    "9. Print the first, middle and last company"
   ]
  },
  {
   "cell_type": "code",
   "execution_count": 66,
   "metadata": {},
   "outputs": [
    {
     "name": "stdout",
     "output_type": "stream",
     "text": [
      "ibm\n"
     ]
    }
   ],
   "source": [
    "#9. Print the first, middle and last company\n",
    "\n",
    "companies = ['facebook', 'google', 'microsoft', 'apple', 'ibm', 'oracle', 'amazon']\n",
    "print(companies[4])"
   ]
  },
  {
   "cell_type": "markdown",
   "metadata": {},
   "source": [
    "10. Print the list after modifying one of the companies"
   ]
  },
  {
   "cell_type": "code",
   "execution_count": 67,
   "metadata": {},
   "outputs": [
    {
     "name": "stdout",
     "output_type": "stream",
     "text": [
      "['facebook', 'kashimo investment', 'microsoft', 'apple', 'ibm', 'oracle', 'amazon']\n"
     ]
    }
   ],
   "source": [
    "#10. Print the list after modifying one of the companies\n",
    "companies[1] = \"kashimo investment\"\n",
    "print(companies)"
   ]
  },
  {
   "cell_type": "markdown",
   "metadata": {},
   "source": [
    "11. Add an IT company to it_companies"
   ]
  },
  {
   "cell_type": "code",
   "execution_count": 68,
   "metadata": {},
   "outputs": [
    {
     "name": "stdout",
     "output_type": "stream",
     "text": [
      "['facebook', 'kashimo investment', 'microsoft', 'apple', 'ibm', 'oracle', 'amazon', 'LogicTech']\n"
     ]
    }
   ],
   "source": [
    "#Add an IT company to it_companies\n",
    "companies.append(\"LogicTech\")\n",
    "print(companies)"
   ]
  },
  {
   "cell_type": "markdown",
   "metadata": {},
   "source": [
    "12. Insert an IT company in the middle of the companies list"
   ]
  },
  {
   "cell_type": "code",
   "execution_count": 69,
   "metadata": {},
   "outputs": [
    {
     "name": "stdout",
     "output_type": "stream",
     "text": [
      "['facebook', 'kashimo investment', 'microsoft', 'apple', 'ArewaDS', 'ibm', 'oracle', 'amazon', 'LogicTech']\n"
     ]
    }
   ],
   "source": [
    "#12. Insert an IT company in the middle of the companies list\n",
    "\n",
    "companies.insert(4, \"ArewaDS\")\n",
    "print(companies)"
   ]
  },
  {
   "cell_type": "markdown",
   "metadata": {},
   "source": [
    "13. Change one of the it_companies names to uppercase (IBM excluded!)"
   ]
  },
  {
   "cell_type": "code",
   "execution_count": 70,
   "metadata": {},
   "outputs": [
    {
     "name": "stdout",
     "output_type": "stream",
     "text": [
      "APPLE\n"
     ]
    }
   ],
   "source": [
    "#13. Change one of the it_companies names to uppercase (IBM excluded!)\n",
    "\n",
    "print(companies[3].upper())"
   ]
  },
  {
   "cell_type": "markdown",
   "metadata": {},
   "source": [
    "14. Join the it_companies with a string '#;&nbsp; '"
   ]
  },
  {
   "cell_type": "code",
   "execution_count": 71,
   "metadata": {},
   "outputs": [
    {
     "name": "stdout",
     "output_type": "stream",
     "text": [
      "facebook # google # microsoft # apple # ibm # oracle # amazon\n"
     ]
    }
   ],
   "source": [
    "#14. Join the it_companies with a string '#;&nbsp; '\n",
    "\n",
    "companies = ['facebook', 'google', 'microsoft', 'apple', 'ibm', 'oracle', 'amazon']\n",
    "results = \" # \" .join(companies)\n",
    "print(results)"
   ]
  },
  {
   "cell_type": "markdown",
   "metadata": {},
   "source": [
    "15. Check if a certain company exists in the it_companies list."
   ]
  },
  {
   "cell_type": "code",
   "execution_count": 72,
   "metadata": {},
   "outputs": [
    {
     "name": "stdout",
     "output_type": "stream",
     "text": [
      "The comapny Amazon exist in the companies\n"
     ]
    }
   ],
   "source": [
    "#15. Check if a certain company exists in the it_companies list.\n",
    "\n",
    "companies = ['facebook', 'google', 'microsoft', 'apple', 'ibm', 'oracle', 'amazon']\n",
    "if 'amazon' in companies:\n",
    "    print(\"The comapny Amazon exist in the companies\")\n",
    "else:\n",
    "    print(\"The company doest not exist\")"
   ]
  },
  {
   "cell_type": "markdown",
   "metadata": {},
   "source": [
    "16. Sort the list using sort() method"
   ]
  },
  {
   "cell_type": "code",
   "execution_count": 73,
   "metadata": {},
   "outputs": [
    {
     "name": "stdout",
     "output_type": "stream",
     "text": [
      "['ArewaDS', 'LogicTech', 'Skills for Africa', 'amazon', 'apple', 'facebook', 'google', 'ibm', 'microsoft', 'oracle']\n"
     ]
    }
   ],
   "source": [
    "#16. Sort the list using sort() method\n",
    "\n",
    "companies = ['facebook', 'google', 'microsoft', 'apple', 'ibm', 'oracle', 'amazon', 'ArewaDS', 'LogicTech', 'Skills for Africa']\n",
    "companies.sort()\n",
    "print(companies)"
   ]
  },
  {
   "cell_type": "markdown",
   "metadata": {},
   "source": [
    "17. Reverse the list in descending order using reverse() method"
   ]
  },
  {
   "cell_type": "code",
   "execution_count": 74,
   "metadata": {},
   "outputs": [
    {
     "name": "stdout",
     "output_type": "stream",
     "text": [
      "['oracle', 'microsoft', 'ibm', 'google', 'facebook', 'apple', 'amazon', 'Skills for Africa', 'LogicTech', 'ArewaDS']\n"
     ]
    }
   ],
   "source": [
    "#17. Reverse the list in descending order using reverse() method\n",
    "companies = ['facebook', 'google', 'microsoft', 'apple', 'ibm', 'oracle', 'amazon', 'ArewaDS', 'LogicTech', 'Skills for Africa']\n",
    "companies.sort(reverse=True)\n",
    "print(companies)"
   ]
  },
  {
   "cell_type": "markdown",
   "metadata": {},
   "source": [
    "18. Slice out the first 3 companies from the list\n",
    "\n"
   ]
  },
  {
   "cell_type": "code",
   "execution_count": 75,
   "metadata": {},
   "outputs": [
    {
     "name": "stdout",
     "output_type": "stream",
     "text": [
      "['facebook', 'google', 'microsoft']\n"
     ]
    }
   ],
   "source": [
    "#18. Slice out the first 3 companies from the list\n",
    "\n",
    "companies = ['facebook', 'google', 'microsoft', 'apple', 'ibm', 'oracle', 'amazon', 'ArewaDS', 'LogicTech', 'Skills for Africa']\n",
    "print(companies[0:3])"
   ]
  },
  {
   "cell_type": "markdown",
   "metadata": {},
   "source": [
    "19. Slice out the last 3 companies from the list"
   ]
  },
  {
   "cell_type": "code",
   "execution_count": 76,
   "metadata": {},
   "outputs": [
    {
     "name": "stdout",
     "output_type": "stream",
     "text": [
      "['ArewaDS', 'LogicTech', 'Skills for Africa']\n"
     ]
    }
   ],
   "source": [
    "#19. Slice out the last 3 companies from the list\n",
    "\n",
    "companies = ['facebook', 'google', 'microsoft', 'apple', 'ibm', 'oracle', 'amazon', 'ArewaDS', 'LogicTech', 'Skills for Africa']\n",
    "print(companies[7:])"
   ]
  },
  {
   "cell_type": "markdown",
   "metadata": {},
   "source": [
    "20. Slice out the middle IT company or companies from the list"
   ]
  },
  {
   "cell_type": "code",
   "execution_count": 77,
   "metadata": {},
   "outputs": [
    {
     "name": "stdout",
     "output_type": "stream",
     "text": [
      "oracle\n"
     ]
    }
   ],
   "source": [
    "#20. Slice out the middle IT company or companies from the list\n",
    "\n",
    "companies = ['facebook', 'google', 'microsoft', 'apple', 'ibm', 'oracle', 'amazon', 'ArewaDS', 'LogicTech', 'Skills for Africa']\n",
    "print(companies[5])"
   ]
  },
  {
   "cell_type": "markdown",
   "metadata": {},
   "source": [
    "21. Remove the first IT company from the list"
   ]
  },
  {
   "cell_type": "code",
   "execution_count": 78,
   "metadata": {},
   "outputs": [
    {
     "name": "stdout",
     "output_type": "stream",
     "text": [
      "['google', 'microsoft', 'apple', 'ibm', 'oracle', 'amazon', 'ArewaDS', 'LogicTech', 'Skills for Africa']\n"
     ]
    }
   ],
   "source": [
    "#21. Remove the first IT company from the list\n",
    "\n",
    "companies.remove(\"facebook\")\n",
    "print(companies)"
   ]
  },
  {
   "cell_type": "markdown",
   "metadata": {},
   "source": [
    "22. Remove the middle IT company or companies from the list"
   ]
  },
  {
   "cell_type": "code",
   "execution_count": 79,
   "metadata": {},
   "outputs": [
    {
     "name": "stdout",
     "output_type": "stream",
     "text": [
      "['facebook', 'google', 'microsoft', 'apple', 'ibm', 'amazon', 'ArewaDS', 'LogicTech', 'Skills for Africa']\n"
     ]
    }
   ],
   "source": [
    "#22. Remove the middle IT company or companies from the list\n",
    "\n",
    "companies = ['facebook', 'google', 'microsoft', 'apple', 'ibm', 'oracle', 'amazon', 'ArewaDS', 'LogicTech', 'Skills for Africa']\n",
    "companies.remove(\"oracle\")\n",
    "print(companies)"
   ]
  },
  {
   "cell_type": "markdown",
   "metadata": {},
   "source": [
    "23. Remove the last IT company from the list"
   ]
  },
  {
   "cell_type": "code",
   "execution_count": 80,
   "metadata": {},
   "outputs": [
    {
     "name": "stdout",
     "output_type": "stream",
     "text": [
      "['facebook', 'google', 'microsoft', 'apple', 'ibm', 'oracle', 'amazon', 'ArewaDS', 'LogicTech']\n"
     ]
    }
   ],
   "source": [
    "#23. Remove the last IT company from the list\n",
    "companies = ['facebook', 'google', 'microsoft', 'apple', 'ibm', 'oracle', 'amazon', 'ArewaDS', 'LogicTech', 'Skills for Africa']\n",
    "companies.remove(\"Skills for Africa\")\n",
    "print(companies)"
   ]
  },
  {
   "cell_type": "markdown",
   "metadata": {},
   "source": [
    "24. Remove all IT companies from the list"
   ]
  },
  {
   "cell_type": "code",
   "execution_count": 81,
   "metadata": {},
   "outputs": [
    {
     "name": "stdout",
     "output_type": "stream",
     "text": [
      "[]\n"
     ]
    }
   ],
   "source": [
    "#24. Remove all IT companies from the list\n",
    "companies = ['facebook', 'google', 'microsoft', 'apple', 'ibm', 'oracle', 'amazon', 'ArewaDS', 'LogicTech', 'Skills for Africa']\n",
    "companies.clear()\n",
    "print(companies)"
   ]
  },
  {
   "cell_type": "markdown",
   "metadata": {},
   "source": [
    "25. Destroy the IT companies list"
   ]
  },
  {
   "cell_type": "code",
   "execution_count": 82,
   "metadata": {},
   "outputs": [],
   "source": [
    "#25. Destroy the IT companies list\n",
    "companies = ['facebook', 'google', 'microsoft', 'apple', 'ibm', 'oracle', 'amazon', 'ArewaDS', 'LogicTech', 'Skills for Africa']\n",
    "del companies"
   ]
  },
  {
   "cell_type": "markdown",
   "metadata": {},
   "source": [
    "26.  Join the following lists:\n",
    "\n",
    "    front_end = ['HTML', 'CSS', 'JS', 'React', 'Redux']\n",
    "    back_end = ['Node','Express', 'MongoDB']"
   ]
  },
  {
   "cell_type": "code",
   "execution_count": 83,
   "metadata": {},
   "outputs": [
    {
     "name": "stdout",
     "output_type": "stream",
     "text": [
      "['HTML', 'CSS', 'JS', 'React', 'Redux'] ['Node', 'Express', 'MongoDB']\n",
      "_____________________________________________________\n",
      "['HTML', 'CSS', 'JS', 'React', 'Redux', 'Node', 'Express', 'MongoDB']\n",
      "_____________________________________________________\n"
     ]
    }
   ],
   "source": [
    "front_end = ['HTML', 'CSS', 'JS', 'React', 'Redux']\n",
    "back_end = ['Node','Express', 'MongoDB']\n",
    "full_language = (f'{front_end} {back_end}')\n",
    "print(full_language)\n",
    "print(\"_____________________________________________________\")\n",
    "\n",
    "#OR\n",
    "full_language = front_end + back_end\n",
    "print(full_language)\n",
    "print(\"_____________________________________________________\")\n"
   ]
  },
  {
   "cell_type": "markdown",
   "metadata": {},
   "source": [
    "27. After joining the lists in question 26. Copy the joined list and assign it to a variable full_stack, then insert Python and SQL after Redux."
   ]
  },
  {
   "cell_type": "code",
   "execution_count": 84,
   "metadata": {},
   "outputs": [
    {
     "name": "stdout",
     "output_type": "stream",
     "text": [
      "['HTML', 'CSS', 'JS', 'React', 'Redux', 'Node', 'Express', 'MongoDB']\n",
      "__________________________________________________________________\n",
      "['HTML', 'CSS', 'JS', 'React', 'Redux', 'SQL', 'Python', 'Node', 'Express', 'MongoDB']\n"
     ]
    }
   ],
   "source": [
    "#27. After joining the lists in question 26. Copy the joined list and assign it to a variable full_stack, then insert Python and SQL after Redux.\n",
    "\n",
    "full_stack = ['HTML', 'CSS', 'JS', 'React', 'Redux', 'Node', 'Express', 'MongoDB']\n",
    "print(full_stack)\n",
    "print(\"__________________________________________________________________\")\n",
    "\n",
    "full_stack.insert(5, 'Python')\n",
    "full_stack.insert(5,'SQL')\n",
    "print(full_stack)"
   ]
  },
  {
   "cell_type": "markdown",
   "metadata": {},
   "source": [
    "### Exercises: Level 2"
   ]
  },
  {
   "cell_type": "markdown",
   "metadata": {},
   "source": [
    "1. The following is a list of 10 students ages:\n",
    "\n",
    "ages = [19, 22, 19, 24, 20, 25, 26, 24, 25, 24]\n",
    "\n",
    "- Sort the list and find the min and max age\n",
    "- Add the min age and the max age again to the list\n",
    "- Find the median age (one middle item or two middle items divided by two)\n",
    "- Find the average age (sum of all items divided by their number )\n",
    "- Find the range of the ages (max minus min)\n",
    "- Compare the value of (min - average) and (max - average), use _abs()_ method"
   ]
  },
  {
   "cell_type": "code",
   "execution_count": 85,
   "metadata": {},
   "outputs": [
    {
     "name": "stdout",
     "output_type": "stream",
     "text": [
      "[19, 22, 19, 24, 20, 25, 26, 24, 25, 24]\n",
      "_____________________________________________________________\n",
      "The Min  age is: 19\n",
      "\n"
     ]
    },
    {
     "name": "stdout",
     "output_type": "stream",
     "text": [
      "_____________________________________________________________\n",
      "The Max age is 26\n",
      "_____________________________________________________________\n",
      "[19, 22, 19, 24, 20, 25, 26, 24, 25, 24, 19, 26]\n",
      "_____________________________________________________________\n",
      "The Median is: 25.5\n",
      "\n",
      "_____________________________________________________________\n",
      "The Average of Age is: 22.75\n",
      "_____________________________________________________________\n",
      "The Range of Age is: 7\n",
      "_____________________________________________________________\n",
      "(min - Average) is: 3.75\n",
      "_____________________________________________________________\n",
      "(Max - Average) is: 3.25\n",
      "_____________________________________________________________\n",
      "The (min - Average) and (Max - Average) are different\n"
     ]
    }
   ],
   "source": [
    "ages = [19, 22, 19, 24, 20, 25, 26, 24, 25, 24]\n",
    "\n",
    "#- Sort the list and find the min and max age\n",
    "ages.sort\n",
    "print(ages)\n",
    "print(\"_____________________________________________________________\")\n",
    "\n",
    "#THE MIN\n",
    "ages_min = min(ages)\n",
    "print(f\"The Min  age is: {min(ages)}\\n\")\n",
    "print(\"_____________________________________________________________\")\n",
    "\n",
    "#THE MAX\n",
    "ages_max = max(ages)\n",
    "print(f'The Max age is {max(ages)}')\n",
    "print(\"_____________________________________________________________\")\n",
    "\n",
    "#Add the min age and the max age again to the list\n",
    "ages.append(19)\n",
    "ages.append(26)\n",
    "length = len(ages)\n",
    "print(ages)\n",
    "print(\"_____________________________________________________________\")\n",
    "\n",
    "#- Find the median age (one middle item or two middle items divided by two)\n",
    "middle_1 = 25\n",
    "middle_2 = 26\n",
    "results = middle_2 + middle_1\n",
    "print(f'The Median is: {results / 2}\\n')\n",
    "print(\"_____________________________________________________________\")\n",
    "\n",
    "#- Find the average age (sum of all items divided by their number )\n",
    "ages_sum = sum(ages)\n",
    "average_age = ages_sum / length\n",
    "print(f\"The Average of Age is: {ages_sum / length}\")\n",
    "print(\"_____________________________________________________________\")\n",
    "\n",
    "#- Find the range of the ages (max minus min)\n",
    "ages_range = ages_max - ages_min\n",
    "print(f\"The Range of Age is: {ages_range}\")\n",
    "print(\"_____________________________________________________________\")\n",
    "\n",
    "#- Compare the value of (min - average) and (max - average), use _abs()_ method\n",
    "value_1 = abs(min(ages) - average_age)\n",
    "print(f\"(min - Average) is: {value_1}\")\n",
    "print(\"_____________________________________________________________\")\n",
    "\n",
    "value_2 = abs(max(ages) - average_age)\n",
    "print(f\"(Max - Average) is: {value_2}\")\n",
    "print(\"_____________________________________________________________\")\n",
    "\n",
    "if value_2 == value_1:\n",
    "    print(\"The (min - Average) and (Max - Average) are the same\")\n",
    "else:\n",
    "    print(\"The (min - Average) and (Max - Average) are different\")"
   ]
  },
  {
   "cell_type": "markdown",
   "metadata": {},
   "source": [
    "1. Find the middle country(ies) in the [countries list](https://github.com/Asabeneh/30-Days-Of-Python/tree/master/data/countries.py)"
   ]
  },
  {
   "cell_type": "code",
   "execution_count": 86,
   "metadata": {},
   "outputs": [
    {
     "name": "stdout",
     "output_type": "stream",
     "text": [
      "The middle is: Lesotho\n"
     ]
    }
   ],
   "source": [
    "#Find the middle country(ies) in the [countries list](https://github.com/Asabeneh/30-Days-Of-Python/tree/master/data/countries.py)\n",
    "countries = [\n",
    "  'Afghanistan',\n",
    "  'Albania',\n",
    "  'Algeria',\n",
    "  'Andorra',\n",
    "  'Angola',\n",
    "  'Antigua and Barbuda',\n",
    "  'Argentina',\n",
    "  'Armenia',\n",
    "  'Australia',\n",
    "  'Austria',\n",
    "  'Azerbaijan',\n",
    "  'Bahamas',\n",
    "  'Bahrain',\n",
    "  'Bangladesh',\n",
    "  'Barbados',\n",
    "  'Belarus',\n",
    "  'Belgium',\n",
    "  'Belize',\n",
    "  'Benin',\n",
    "  'Bhutan',\n",
    "  'Bolivia',\n",
    "  'Bosnia and Herzegovina',\n",
    "  'Botswana',\n",
    "  'Brazil',\n",
    "  'Brunei',\n",
    "  'Bulgaria',\n",
    "  'Burkina Faso',\n",
    "  'Burundi',\n",
    "  'Cambodia',\n",
    "  'Cameroon',\n",
    "  'Canada',\n",
    "  'Cape Verde',\n",
    "  'Central African Republic',\n",
    "  'Chad',\n",
    "  'Chile',\n",
    "  'China',\n",
    "  'Colombi',\n",
    "  'Comoros',\n",
    "  'Congo (Brazzaville)',\n",
    "  'Congo',\n",
    "  'Costa Rica',\n",
    "  \"Cote d'Ivoire\",\n",
    "  'Croatia',\n",
    "  'Cuba',\n",
    "  'Cyprus',\n",
    "  'Czech Republic',\n",
    "  'Denmark',\n",
    "  'Djibouti',\n",
    "  'Dominica',\n",
    "  'Dominican Republic',\n",
    "  'East Timor (Timor Timur)',\n",
    "  'Ecuador',\n",
    "  'Egypt',\n",
    "  'El Salvador',\n",
    "  'Equatorial Guinea',\n",
    "  'Eritrea',\n",
    "  'Estonia',\n",
    "  'Ethiopia',\n",
    "  'Fiji',\n",
    "  'Finland',\n",
    "  'France',\n",
    "  'Gabon',\n",
    "  'Gambia, The',\n",
    "  'Georgia',\n",
    "  'Germany',\n",
    "  'Ghana',\n",
    "  'Greece',\n",
    "  'Grenada',\n",
    "  'Guatemala',\n",
    "  'Guinea',\n",
    "  'Guinea-Bissau',\n",
    "  'Guyana',\n",
    "  'Haiti',\n",
    "  'Honduras',\n",
    "  'Hungary',\n",
    "  'Iceland',\n",
    "  'India',\n",
    "  'Indonesia',\n",
    "  'Iran',\n",
    "  'Iraq',\n",
    "  'Ireland',\n",
    "  'Israel',\n",
    "  'Italy',\n",
    "  'Jamaica',\n",
    "  'Japan',\n",
    "  'Jordan',\n",
    "  'Kazakhstan',\n",
    "  'Kenya',\n",
    "  'Kiribati',\n",
    "  'Korea, North',\n",
    "  'Korea, South',\n",
    "  'Kuwait',\n",
    "  'Kyrgyzstan',\n",
    "  'Laos',\n",
    "  'Latvia',\n",
    "  'Lebanon',\n",
    "  'Lesotho',\n",
    "  'Liberia',\n",
    "  'Libya',\n",
    "  'Liechtenstein',\n",
    "  'Lithuania',\n",
    "  'Luxembourg',\n",
    "  'Macedonia',\n",
    "  'Madagascar',\n",
    "  'Malawi',\n",
    "  'Malaysia',\n",
    "  'Maldives',\n",
    "  'Mali',\n",
    "  'Malta',\n",
    "  'Marshall Islands',\n",
    "  'Mauritania',\n",
    "  'Mauritius',\n",
    "  'Mexico',\n",
    "  'Micronesia',\n",
    "  'Moldova',\n",
    "  'Monaco',\n",
    "  'Mongolia',\n",
    "  'Morocco',\n",
    "  'Mozambique',\n",
    "  'Myanmar',\n",
    "  'Namibia',\n",
    "  'Nauru',\n",
    "  'Nepal',\n",
    "  'Netherlands',\n",
    "  'New Zealand',\n",
    "  'Nicaragua',\n",
    "  'Niger',\n",
    "  'Nigeria',\n",
    "  'Norway',\n",
    "  'Oman',\n",
    "  'Pakistan',\n",
    "  'Palau',\n",
    "  'Panama',\n",
    "  'Papua New Guinea',\n",
    "  'Paraguay',\n",
    "  'Peru',\n",
    "  'Philippines',\n",
    "  'Poland',\n",
    "  'Portugal',\n",
    "  'Qatar',\n",
    "  'Romania',\n",
    "  'Russia',\n",
    "  'Rwanda',\n",
    "  'Saint Kitts and Nevis',\n",
    "  'Saint Lucia',\n",
    "  'Saint Vincent',\n",
    "  'Samoa',\n",
    "  'San Marino',\n",
    "  'Sao Tome and Principe',\n",
    "  'Saudi Arabia',\n",
    "  'Senegal',\n",
    "  'Serbia and Montenegro',\n",
    "  'Seychelles',\n",
    "  'Sierra Leone',\n",
    "  'Singapore',\n",
    "  'Slovakia',\n",
    "  'Slovenia',\n",
    "  'Solomon Islands',\n",
    "  'Somalia',\n",
    "  'South Africa',\n",
    "  'Spain',\n",
    "  'Sri Lanka',\n",
    "  'Sudan',\n",
    "  'Suriname',\n",
    "  'Swaziland',\n",
    "  'Sweden',\n",
    "  'Switzerland',\n",
    "  'Syria',\n",
    "  'Taiwan',\n",
    "  'Tajikistan',\n",
    "  'Tanzania',\n",
    "  'Thailand',\n",
    "  'Togo',\n",
    "  'Tonga',\n",
    "  'Trinidad and Tobago',\n",
    "  'Tunisia',\n",
    "  'Turkey',\n",
    "  'Turkmenistan',\n",
    "  'Tuvalu',\n",
    "  'Uganda',\n",
    "  'Ukraine',\n",
    "  'United Arab Emirates',\n",
    "  'United Kingdom',\n",
    "  'United States',\n",
    "  'Uruguay',\n",
    "  'Uzbekistan',\n",
    "  'Vanuatu',\n",
    "  'Vatican City',\n",
    "  'Venezuela',\n",
    "  'Vietnam',\n",
    "  'Yemen',\n",
    "  'Zambia',\n",
    "  'Zimbabwe',\n",
    "]\n",
    "\n",
    "lenght_countries = len(countries)\n",
    "median = countries[lenght_countries//2]\n",
    "print(f\"The middle is: {median}\")"
   ]
  },
  {
   "cell_type": "markdown",
   "metadata": {},
   "source": [
    "2. Divide the countries list into two equal lists if it is even if not one more country for the first half."
   ]
  },
  {
   "cell_type": "code",
   "execution_count": 87,
   "metadata": {},
   "outputs": [
    {
     "name": "stdout",
     "output_type": "stream",
     "text": [
      "_______________________________________________________\n",
      "The first part of the country are: ['Afghanistan', 'Albania', 'Algeria', 'Andorra', 'Angola', 'Antigua and Barbuda', 'Argentina', 'Armenia', 'Australia', 'Austria', 'Azerbaijan', 'Bahamas', 'Bahrain', 'Bangladesh', 'Barbados', 'Belarus', 'Belgium', 'Belize', 'Benin', 'Bhutan', 'Bolivia', 'Bosnia and Herzegovina', 'Botswana', 'Brazil', 'Brunei', 'Bulgaria', 'Burkina Faso', 'Burundi', 'Cambodia', 'Cameroon', 'Canada', 'Cape Verde', 'Central African Republic', 'Chad', 'Chile', 'China', 'Colombi', 'Comoros', 'Congo (Brazzaville)', 'Congo', 'Costa Rica', \"Cote d'Ivoire\", 'Croatia', 'Cuba', 'Cyprus', 'Czech Republic', 'Denmark', 'Djibouti', 'Dominica', 'Dominican Republic', 'East Timor (Timor Timur)', 'Ecuador', 'Egypt', 'El Salvador', 'Equatorial Guinea', 'Eritrea', 'Estonia', 'Ethiopia', 'Fiji', 'Finland', 'France', 'Gabon', 'Gambia, The', 'Georgia', 'Germany', 'Ghana', 'Greece', 'Grenada', 'Guatemala', 'Guinea', 'Guinea-Bissau', 'Guyana', 'Haiti', 'Honduras', 'Hungary', 'Iceland', 'India', 'Indonesia', 'Iran', 'Iraq', 'Ireland', 'Israel', 'Italy', 'Jamaica', 'Japan', 'Jordan', 'Kazakhstan', 'Kenya', 'Kiribati', 'Korea, North', 'Korea, South', 'Kuwait', 'Kyrgyzstan', 'Laos', 'Latvia', 'Lebanon', 'Lesotho']\n",
      "_________________________________________________________________\n",
      "The second half of the country are: ['Liberia', 'Libya', 'Liechtenstein', 'Lithuania', 'Luxembourg', 'Macedonia', 'Madagascar', 'Malawi', 'Malaysia', 'Maldives', 'Mali', 'Malta', 'Marshall Islands', 'Mauritania', 'Mauritius', 'Mexico', 'Micronesia', 'Moldova', 'Monaco', 'Mongolia', 'Morocco', 'Mozambique', 'Myanmar', 'Namibia', 'Nauru', 'Nepal', 'Netherlands', 'New Zealand', 'Nicaragua', 'Niger', 'Nigeria', 'Norway', 'Oman', 'Pakistan', 'Palau', 'Panama', 'Papua New Guinea', 'Paraguay', 'Peru', 'Philippines', 'Poland', 'Portugal', 'Qatar', 'Romania', 'Russia', 'Rwanda', 'Saint Kitts and Nevis', 'Saint Lucia', 'Saint Vincent', 'Samoa', 'San Marino', 'Sao Tome and Principe', 'Saudi Arabia', 'Senegal', 'Serbia and Montenegro', 'Seychelles', 'Sierra Leone', 'Singapore', 'Slovakia', 'Slovenia', 'Solomon Islands', 'Somalia', 'South Africa', 'Spain', 'Sri Lanka', 'Sudan', 'Suriname', 'Swaziland', 'Sweden', 'Switzerland', 'Syria', 'Taiwan', 'Tajikistan', 'Tanzania', 'Thailand', 'Togo', 'Tonga', 'Trinidad and Tobago', 'Tunisia', 'Turkey', 'Turkmenistan', 'Tuvalu', 'Uganda', 'Ukraine', 'United Arab Emirates', 'United Kingdom', 'United States', 'Uruguay', 'Uzbekistan', 'Vanuatu', 'Vatican City', 'Venezuela', 'Vietnam', 'Yemen', 'Zambia', 'Zimbabwe']\n"
     ]
    }
   ],
   "source": [
    "#Divide the countries list into two equal lists if it is even if not one more country for the first half.\n",
    "lenght_countries = len(countries)\n",
    "print(\"_______________________________________________________\")\n",
    "mid_countries  = (lenght_countries + 1)// 2  ## Adding 1 to make two country equal\n",
    "#DIVIDE THE LIST INTO TWO HALF\n",
    "first_half = countries[:mid_countries]\n",
    "print(f\"The first part of the country are: {first_half}\")\n",
    "print(\"_________________________________________________________________\")\n",
    "\n",
    "second_half = countries[mid_countries:]\n",
    "print(f\"The second half of the country are: {second_half}\")"
   ]
  },
  {
   "cell_type": "markdown",
   "metadata": {},
   "source": [
    "3. ['China', 'Russia', 'USA', 'Finland', 'Sweden', 'Norway', 'Denmark']. Unpack the first three countries and the rest as scandic countries."
   ]
  },
  {
   "cell_type": "code",
   "execution_count": 88,
   "metadata": {},
   "outputs": [
    {
     "name": "stdout",
     "output_type": "stream",
     "text": [
      "The first country is: CHINA\n",
      "The second country is: RUSSIA\n",
      "The third country is: USA\n",
      "The scandic country are: ['Finland', 'Sweden', 'Norway', 'Denmark']\n"
     ]
    }
   ],
   "source": [
    "unpack = ['China', 'Russia', 'USA', 'Finland', 'Sweden', 'Norway', 'Denmark']\n",
    "print(f\"The first country is: {unpack[0].upper()}\")\n",
    "print(f\"The second country is: {unpack[1].upper()}\")\n",
    "print(f\"The third country is: {unpack[2].upper()}\")\n",
    "print(f\"The scandic country are: {unpack[3:]}\")"
   ]
  },
  {
   "cell_type": "markdown",
   "metadata": {},
   "source": [
    "## 💻 Tuple Exercises\n",
    "\n",
    "### Tuple Exercises: Level 1"
   ]
  },
  {
   "cell_type": "markdown",
   "metadata": {},
   "source": [
    "1. Create an empty tuple"
   ]
  },
  {
   "cell_type": "code",
   "execution_count": 89,
   "metadata": {},
   "outputs": [],
   "source": [
    "#1. Create an empty tuple\n",
    "empty_tuple = ()"
   ]
  },
  {
   "cell_type": "markdown",
   "metadata": {},
   "source": [
    "2. Create a tuple containing names of your sisters and your brothers (imaginary siblings are fine)"
   ]
  },
  {
   "cell_type": "code",
   "execution_count": 90,
   "metadata": {},
   "outputs": [
    {
     "name": "stdout",
     "output_type": "stream",
     "text": [
      "('lahadi', 'tenimu', 'abdulmujeeb', 'bilal')\n",
      "('hawawo', 'wosila', 'toyiba')\n"
     ]
    }
   ],
   "source": [
    "#2. Create a tuple containing names of your sisters and your brothers (imaginary siblings are fine)\n",
    "brothers = ('lahadi', 'tenimu', 'abdulmujeeb', 'bilal')\n",
    "sisters = ('hawawo', 'wosila', 'toyiba')\n",
    "print(brothers)\n",
    "print(sisters)"
   ]
  },
  {
   "cell_type": "markdown",
   "metadata": {},
   "source": [
    "3. Join brothers and sisters tuples and assign it to siblings"
   ]
  },
  {
   "cell_type": "code",
   "execution_count": 91,
   "metadata": {},
   "outputs": [
    {
     "name": "stdout",
     "output_type": "stream",
     "text": [
      "('lahadi', 'tenimu', 'abdulmujeeb', 'bilal', 'hawawo', 'wosila', 'toyiba')\n"
     ]
    }
   ],
   "source": [
    "#3. Join brothers and sisters tuples and assign it to siblings\n",
    "\n",
    "siblings = brothers + sisters\n",
    "print(siblings)"
   ]
  },
  {
   "cell_type": "markdown",
   "metadata": {},
   "source": [
    "4. How many siblings do you have?"
   ]
  },
  {
   "cell_type": "code",
   "execution_count": 92,
   "metadata": {},
   "outputs": [
    {
     "name": "stdout",
     "output_type": "stream",
     "text": [
      "I have 7 Sibilings\n"
     ]
    }
   ],
   "source": [
    "#4. How many siblings do you have?\n",
    "print(f'I have {len(siblings)} Sibilings')\n"
   ]
  },
  {
   "cell_type": "markdown",
   "metadata": {},
   "source": [
    "5. Modify the siblings tuple and add the name of your father and mother and assign it to family_members"
   ]
  },
  {
   "cell_type": "code",
   "execution_count": 93,
   "metadata": {},
   "outputs": [
    {
     "name": "stdout",
     "output_type": "stream",
     "text": [
      "('ilyasu', 'rehimat', 'lahadi', 'tenimu', 'abdulmujeeb', 'bilal', 'hawawo', 'wosila', 'toyiba')\n"
     ]
    }
   ],
   "source": [
    "#5. Modify the siblings tuple and add the name of your father and mother and assign it to family_members\n",
    "\n",
    "parents = ('ilyasu', 'rehimat')\n",
    "family_member = parents + siblings\n",
    "print(family_member)"
   ]
  },
  {
   "cell_type": "markdown",
   "metadata": {},
   "source": [
    "### Tuple Exercises: Level 2"
   ]
  },
  {
   "cell_type": "markdown",
   "metadata": {},
   "source": [
    "1. Unpack siblings and parents from family_members\n",
    "\n",
    "\n",
    "\n",
    "\n",
    "\n"
   ]
  },
  {
   "cell_type": "code",
   "execution_count": 94,
   "metadata": {},
   "outputs": [
    {
     "name": "stdout",
     "output_type": "stream",
     "text": [
      "lahadi Is my sibling \n",
      "\n",
      "tenimu Is my sibling \n",
      "\n",
      "abdulmujeeb Is my sibling \n",
      "\n",
      "bilal Is my sibling \n",
      "\n",
      "hawawo Is my sibling \n",
      "\n",
      "wosila Is my sibling \n",
      "\n",
      "toyiba Is my sibling \n",
      "\n",
      "ilyasu is my parent \n",
      "\n",
      "rehimat is my parent \n",
      "\n"
     ]
    }
   ],
   "source": [
    "#1. Unpack siblings and parents from family_members\n",
    "for sibling in siblings:\n",
    "    print(sibling, \"Is my sibling\", \"\\n\")\n",
    "for parent in parents:\n",
    "    print(parent, \"is my parent\", \"\\n\")"
   ]
  },
  {
   "cell_type": "markdown",
   "metadata": {},
   "source": [
    "2. Create fruits, vegetables and animal products tuples. Join the three tuples and assign it to a variable called food_stuff_tp."
   ]
  },
  {
   "cell_type": "code",
   "execution_count": 95,
   "metadata": {},
   "outputs": [
    {
     "name": "stdout",
     "output_type": "stream",
     "text": [
      "('mango', 'orange', 'pineapple', 'watermelon', 'ogwu leaf', 'tomatoe', 'waterleaf', 'bitter leaf', 'kilich', 'meat', 'kpomo')\n"
     ]
    }
   ],
   "source": [
    "#1. Create fruits, vegetables and animal products tuples. Join the three tuples and assign it to a variable called food_stuff_tp.\n",
    "\n",
    "fruits = ('mango', 'orange', 'pineapple','watermelon')\n",
    "vegetables = ('ogwu leaf', 'tomatoe', 'waterleaf','bitter leaf')\n",
    "animals = ('kilich', 'meat', 'kpomo')\n",
    "food_stuff_tp = fruits + vegetables + animals\n",
    "print(food_stuff_tp)"
   ]
  },
  {
   "cell_type": "markdown",
   "metadata": {},
   "source": [
    "3. Change the about food_stuff_tp  tuple to a food_stuff_lt list"
   ]
  },
  {
   "cell_type": "code",
   "execution_count": 96,
   "metadata": {},
   "outputs": [
    {
     "name": "stdout",
     "output_type": "stream",
     "text": [
      "['mango', 'orange', 'pineapple', 'watermelon', 'ogwu leaf', 'tomatoe', 'waterleaf', 'bitter leaf', 'kilich', 'meat', 'kpomo']\n"
     ]
    }
   ],
   "source": [
    "#1. Change the about food_stuff_tp  tuple to a food_stuff_lt list\n",
    "food_stuff_lst = list(food_stuff_tp)\n",
    "print(food_stuff_lst)"
   ]
  },
  {
   "cell_type": "markdown",
   "metadata": {},
   "source": [
    "4.  Slice out the middle item or items from the food_stuff_tp tuple or food_stuff_lt list."
   ]
  },
  {
   "cell_type": "code",
   "execution_count": 97,
   "metadata": {},
   "outputs": [
    {
     "name": "stdout",
     "output_type": "stream",
     "text": [
      "['mango', 'orange', 'pineapple']\n",
      "['watermelon', 'ogwu leaf', 'tomatoe']\n",
      "['kilich', 'meat']\n"
     ]
    }
   ],
   "source": [
    "#4. Slice out the middle item or items from the food_stuff_tp tuple or food_stuff_lt list.\n",
    "print(food_stuff_lst[0:3])\n",
    "print(food_stuff_lst[3:6])\n",
    "print(food_stuff_lst[-3:-1])"
   ]
  },
  {
   "cell_type": "markdown",
   "metadata": {},
   "source": [
    "5. Slice out the first three items and the last three items from food_staff_lt list"
   ]
  },
  {
   "cell_type": "code",
   "execution_count": 98,
   "metadata": {},
   "outputs": [
    {
     "name": "stdout",
     "output_type": "stream",
     "text": [
      "['mango', 'orange', 'pineapple']\n",
      "['bitter leaf', 'kilich', 'meat']\n"
     ]
    }
   ],
   "source": [
    "#5. Slice out the first three items and the last three items from food_staff_lt list\n",
    "print(food_stuff_lst[0:3])      #slice of first three items\n",
    "print(food_stuff_lst[-4:-1])    #slice of last three items"
   ]
  },
  {
   "cell_type": "markdown",
   "metadata": {},
   "source": [
    "6. Delete the food_staff_tp tuple completely"
   ]
  },
  {
   "cell_type": "code",
   "execution_count": 99,
   "metadata": {},
   "outputs": [],
   "source": [
    "#Delete the food_staff_tp tuple completely\n",
    "\n",
    "fruits = ('mango', 'orange', 'pineapple','watermelon')\n",
    "vegetables = ('ogwu leaf', 'tomatoe', 'waterleaf','bitter leaf')\n",
    "animals = ('kilich', 'meat', 'kpomo')\n",
    "food_stuff_tp = fruits + vegetables + animals\n",
    "\n",
    "del food_stuff_tp"
   ]
  },
  {
   "cell_type": "markdown",
   "metadata": {},
   "source": [
    " 7. Check if 'Estonia' is a nordic country\n",
    " 8. Check if 'Iceland' is a nordic country\n",
    "  nordic_countries = ('Denmark', 'Finland','Iceland', 'Norway', 'Sweden')"
   ]
  },
  {
   "cell_type": "code",
   "execution_count": 100,
   "metadata": {},
   "outputs": [
    {
     "name": "stdout",
     "output_type": "stream",
     "text": [
      "Estonia is Not Present\n",
      "________________________________________________________\n",
      "Iceland present in Nordic countries\n"
     ]
    }
   ],
   "source": [
    "nordic_countries = ('Denmark', 'Finland','Iceland', 'Norway', 'Sweden')\n",
    "if 'Estonia' in nordic_countries:\n",
    "    print(\"Estonia present in Nordic countries\")\n",
    "else:\n",
    "    print(\"Estonia is Not Present\")\n",
    "print(\"________________________________________________________\")\n",
    "\n",
    "if 'Iceland' in nordic_countries:\n",
    "    print(\"Iceland present in Nordic countries\")\n",
    "else:\n",
    "    print(\"Iceland is Not Present\")"
   ]
  },
  {
   "cell_type": "markdown",
   "metadata": {},
   "source": [
    "## 💻 Sets Exercises"
   ]
  },
  {
   "cell_type": "markdown",
   "metadata": {},
   "source": [
    "### Sets Exercises: Level 1"
   ]
  },
  {
   "cell_type": "markdown",
   "metadata": {},
   "source": [
    "1. Find the length of the set it_companies"
   ]
  },
  {
   "cell_type": "code",
   "execution_count": 101,
   "metadata": {},
   "outputs": [
    {
     "name": "stdout",
     "output_type": "stream",
     "text": [
      "7\n"
     ]
    }
   ],
   "source": [
    "it_companies = {'Facebook', 'Google', 'Microsoft', 'Apple', 'IBM', 'Oracle', 'Amazon'}\n",
    "print(len(it_companies))"
   ]
  },
  {
   "cell_type": "markdown",
   "metadata": {},
   "source": [
    "2. Add 'Twitter' to it_companies"
   ]
  },
  {
   "cell_type": "code",
   "execution_count": 102,
   "metadata": {},
   "outputs": [
    {
     "name": "stdout",
     "output_type": "stream",
     "text": [
      "{'Microsoft', 'Facebook', 'Google', 'IBM', 'Oracle', 'Apple', 'Twitter', 'Amazon'}\n"
     ]
    }
   ],
   "source": [
    "#2. Add 'Twitter' to it_companies\n",
    "it_companies.add('Twitter')\n",
    "print(it_companies)"
   ]
  },
  {
   "cell_type": "markdown",
   "metadata": {},
   "source": [
    "3. Insert multiple IT companies at once to the set it_companies"
   ]
  },
  {
   "cell_type": "code",
   "execution_count": 103,
   "metadata": {},
   "outputs": [
    {
     "name": "stdout",
     "output_type": "stream",
     "text": [
      "{'Facebook', 'IBM', 'Oracle', 'Google', 'Apple', 'Twitter', 'Microsoft', 'netflix', 'Amazon', 'LogicTech'}\n"
     ]
    }
   ],
   "source": [
    "#3. Insert multiple IT companies at once to the set it_compainies\n",
    "\n",
    "it_companies.update(['netflix', 'LogicTech'])\n",
    "print(it_companies)"
   ]
  },
  {
   "cell_type": "markdown",
   "metadata": {},
   "source": [
    "4. Remove one of the companies from the set it_companies"
   ]
  },
  {
   "cell_type": "code",
   "execution_count": 104,
   "metadata": {},
   "outputs": [
    {
     "name": "stdout",
     "output_type": "stream",
     "text": [
      "{'Facebook', 'IBM', 'Oracle', 'Google', 'Apple', 'Twitter', 'Microsoft', 'Amazon', 'LogicTech'}\n"
     ]
    }
   ],
   "source": [
    "#4. Remove one of the companies from the set it_companies\n",
    "it_companies.remove('netflix')\n",
    "print(it_companies)"
   ]
  },
  {
   "cell_type": "markdown",
   "metadata": {},
   "source": [
    "5. What is the difference between remove and discard\n",
    "Both _remove() and discard()_ are two similar things but the ways they work is different for example\n",
    "when using using **remove** to remove item from the list it raised an error if the items does not exist **while**\n",
    "\n",
    "discard will not raised an error if the elements doest not exist"
   ]
  },
  {
   "cell_type": "markdown",
   "metadata": {},
   "source": [
    "### Sets Exercises: Level 2"
   ]
  },
  {
   "cell_type": "markdown",
   "metadata": {},
   "source": [
    "1. Join A and B"
   ]
  },
  {
   "cell_type": "code",
   "execution_count": 105,
   "metadata": {},
   "outputs": [
    {
     "name": "stdout",
     "output_type": "stream",
     "text": [
      "{19, 20, 22, 24, 25, 26, 27, 28}\n"
     ]
    }
   ],
   "source": [
    "#1. Join A and B\n",
    "A = {19, 22, 24, 20, 25, 26}\n",
    "B = {19, 22, 20, 25, 26, 24, 28, 27}\n",
    "\n",
    "join = A.union(B)\n",
    "print(join)"
   ]
  },
  {
   "cell_type": "markdown",
   "metadata": {},
   "source": [
    "2. Find A intersection B"
   ]
  },
  {
   "cell_type": "code",
   "execution_count": 106,
   "metadata": {},
   "outputs": [
    {
     "name": "stdout",
     "output_type": "stream",
     "text": [
      "{19, 20, 22, 24, 25, 26}\n"
     ]
    }
   ],
   "source": [
    "#2. Find A intersection B\n",
    "intersection = A.intersection(B)\n",
    "print(intersection)"
   ]
  },
  {
   "cell_type": "markdown",
   "metadata": {},
   "source": [
    "3. Is A subset of B"
   ]
  },
  {
   "cell_type": "code",
   "execution_count": 107,
   "metadata": {},
   "outputs": [
    {
     "name": "stdout",
     "output_type": "stream",
     "text": [
      "is True is a subset\n"
     ]
    }
   ],
   "source": [
    "#3. Is A subset of B\n",
    "subset = A.issubset(B)\n",
    "print(f'is {subset} is a subset')"
   ]
  },
  {
   "cell_type": "markdown",
   "metadata": {},
   "source": [
    "4. Are A and B disjoint sets"
   ]
  },
  {
   "cell_type": "code",
   "execution_count": 108,
   "metadata": {},
   "outputs": [
    {
     "name": "stdout",
     "output_type": "stream",
     "text": [
      "is False is Not a disjoint\n"
     ]
    }
   ],
   "source": [
    "#4. Are A and B disjoint sets\n",
    "disjoint = A.isdisjoint(B)\n",
    "print(f\"is {disjoint} is Not a disjoint\")"
   ]
  },
  {
   "cell_type": "markdown",
   "metadata": {},
   "source": [
    "5. Join A with B and B with A"
   ]
  },
  {
   "cell_type": "code",
   "execution_count": 109,
   "metadata": {},
   "outputs": [
    {
     "name": "stdout",
     "output_type": "stream",
     "text": [
      "{19, 20, 22, 24, 25, 26, 27, 28}\n",
      "{19, 20, 22, 24, 25, 26, 27, 28}\n"
     ]
    }
   ],
   "source": [
    "#Join A with B and B with A\n",
    "join_A = A.union(B)\n",
    "join_B = B.union(A)\n",
    "print(join_A)\n",
    "print(join_B)"
   ]
  },
  {
   "cell_type": "markdown",
   "metadata": {},
   "source": [
    "6. What is the symmetric difference between A and B"
   ]
  },
  {
   "cell_type": "code",
   "execution_count": 110,
   "metadata": {},
   "outputs": [
    {
     "name": "stdout",
     "output_type": "stream",
     "text": [
      "{27, 28}\n"
     ]
    }
   ],
   "source": [
    "#What is the symmetric difference between A and B\n",
    "symmetric_diff = A.symmetric_difference(B)\n",
    "print(symmetric_diff)"
   ]
  },
  {
   "cell_type": "markdown",
   "metadata": {},
   "source": [
    "7. Delete the sets completely"
   ]
  },
  {
   "cell_type": "code",
   "execution_count": 111,
   "metadata": {},
   "outputs": [],
   "source": [
    "#Delete the sets completely\n",
    "del A\n",
    "del B"
   ]
  },
  {
   "cell_type": "markdown",
   "metadata": {},
   "source": [
    "### Sets Exercises: Level 3"
   ]
  },
  {
   "cell_type": "markdown",
   "metadata": {},
   "source": [
    "1. Convert the ages to a set and compare the length of the list and the set, which one is bigger?"
   ]
  },
  {
   "cell_type": "code",
   "execution_count": 112,
   "metadata": {},
   "outputs": [
    {
     "name": "stdout",
     "output_type": "stream",
     "text": [
      "[22, 19, 24, 25, 26, 24, 25, 24]\n"
     ]
    }
   ],
   "source": [
    "#Convert the ages to a set and compare the length of the list and the set, which one is bigger?\n",
    "age = [22, 19, 24, 25, 26, 24, 25, 24]\n",
    "\n",
    "lst = list(age)\n",
    "print(lst)"
   ]
  },
  {
   "cell_type": "markdown",
   "metadata": {},
   "source": [
    "2. Explain the difference between the following data types: string, list, tuple and set\n",
    "\n",
    "- **STRING** : A string is a text wrapped in the single quote(''), double quote(\"\"), and Tripple quote(\"\"\")\n",
    "- **LIST** : A list is a collection of data or items. you can think of shooping list, attendace list, noise make list ETC the list is written you as: [\"book\", \" pen\"]\n",
    "- **TUPLE** : A tuple is collection of data in mutational form. is a collection of items that cannot be change or replce. A tuple is written as: turple = ('item', 'item2')\n",
    "- **SET** : A set is a collection of item in a set. a set is writen as: set = {'item', 'item2'}"
   ]
  },
  {
   "cell_type": "markdown",
   "metadata": {},
   "source": [
    "3. _I am a teacher and I love to inspire and teach people._ How many unique words have been used in the sentence? Use the split methods and set to get the unique words."
   ]
  },
  {
   "cell_type": "code",
   "execution_count": 115,
   "metadata": {},
   "outputs": [
    {
     "name": "stdout",
     "output_type": "stream",
     "text": [
      "The unique word in the sentence is: 10\n"
     ]
    }
   ],
   "source": [
    "sentences = \"I am a teacher and I love to inspire and teach people\"\n",
    "convert = set(sentences.split())\n",
    "print(f'The unique word in the sentence is: {len(convert)}')"
   ]
  },
  {
   "cell_type": "markdown",
   "metadata": {},
   "source": [
    "## COMPLETE MODULE 5"
   ]
  }
 ],
 "metadata": {
  "kernelspec": {
   "display_name": "Arewa-work-space",
   "language": "python",
   "name": "python3"
  },
  "language_info": {
   "codemirror_mode": {
    "name": "ipython",
    "version": 3
   },
   "file_extension": ".py",
   "mimetype": "text/x-python",
   "name": "python",
   "nbconvert_exporter": "python",
   "pygments_lexer": "ipython3",
   "version": "3.12.7"
  }
 },
 "nbformat": 4,
 "nbformat_minor": 2
}
