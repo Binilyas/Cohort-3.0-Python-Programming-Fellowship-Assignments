{
 "cells": [
  {
   "cell_type": "markdown",
   "metadata": {},
   "source": [
    "### WELCOME TO MY MODULE 6 OF 30 DAYS OF PYTHON PROGRAMMING\n",
    "\n",
    "## 💻 Exercises: Module 6"
   ]
  },
  {
   "cell_type": "markdown",
   "metadata": {},
   "source": [
    "1. Create  an empty dictionary called dog"
   ]
  },
  {
   "cell_type": "code",
   "execution_count": 6,
   "metadata": {},
   "outputs": [],
   "source": [
    "#Create  an empty dictionary called dog\n",
    "dog = {}"
   ]
  },
  {
   "cell_type": "markdown",
   "metadata": {},
   "source": [
    "2. Add name, color, breed, legs, age to the dog dictionary"
   ]
  },
  {
   "cell_type": "code",
   "execution_count": 45,
   "metadata": {},
   "outputs": [
    {
     "name": "stdout",
     "output_type": "stream",
     "text": [
      "{'name': 'abdulrahman', 'color': 'black', 'breed': 'null', 'leg': 'long leg', 'age': 26}\n",
      "________________________________________\n",
      "dict_values(['abdulrahman', 'black', 'null', 'long leg', 26])\n",
      "________________________________________\n",
      "dict_items([('name', 'abdulrahman'), ('color', 'black'), ('breed', 'null'), ('leg', 'long leg'), ('age', 26)])\n",
      "________________________________________\n",
      "abdulrahman\n",
      "black\n",
      "null\n",
      "26\n"
     ]
    }
   ],
   "source": [
    "#2. Add name, color, breed, legs, age to the dog dictionary\n",
    "dog = {}\n",
    "dog['name'] = \"abdulrahman\"\n",
    "dog['color'] = 'black'\n",
    "dog['breed'] = 'null'\n",
    "dog['leg'] = 'long leg'\n",
    "dog['age'] =26\n",
    "print(dog)\n",
    "print(\"________________________________________\")\n",
    "print(dog.values())\n",
    "print(\"________________________________________\")\n",
    "print(dog.items())\n",
    "print(\"________________________________________\")\n",
    "\n",
    "print(dog.get('name'))\n",
    "print(dog.get('color'))\n",
    "print(dog.get('breed'))\n",
    "print(dog.get('age'))"
   ]
  },
  {
   "cell_type": "markdown",
   "metadata": {},
   "source": [
    "3. Create a student dictionary and add first_name, last_name, gender, age, marital status, skills, country, city and address as keys for the dictionary"
   ]
  },
  {
   "cell_type": "code",
   "execution_count": 53,
   "metadata": {},
   "outputs": [
    {
     "name": "stdout",
     "output_type": "stream",
     "text": [
      "{'First Name': 'Abdulrahman', 'Last name': 'Ilyasu', 'Gender': 'Male', 'Age': '26 years old', 'Marital': 'Single', 'Skills': ['excel', 'python', 'SQL', 'PowerBI', 'Tableau'], 'Country': 'Nigeria', 'City': 'Ankpa kogi State', 'Adress': 'No 6 Kano Street Ankpa'}\n",
      "__________________________________________\n",
      "This are the values:\n",
      "Abdulrahman\n",
      "Ilyasu\n",
      "Male\n",
      "26 years old\n",
      "Single\n",
      "['excel', 'python', 'SQL', 'PowerBI', 'Tableau']\n",
      "Nigeria\n",
      "Ankpa kogi State\n",
      "No 6 Kano Street Ankpa\n",
      "__________________________________________\n",
      "This is are the key:\n",
      "First Name\n",
      "Last name\n",
      "Gender\n",
      "Age\n",
      "Marital\n",
      "Skills\n",
      "Country\n",
      "City\n",
      "Adress\n",
      "__________________________________________\n",
      "This are the Values:\n",
      "Abdulrahman\n",
      "Ilyasu\n",
      "Male\n",
      "26 years old\n",
      "Single\n",
      "['excel', 'python', 'SQL', 'PowerBI', 'Tableau']\n",
      "Nigeria\n",
      "Ankpa kogi State\n",
      "No 6 Kano Street Ankpa\n"
     ]
    }
   ],
   "source": [
    "#3. Create a student dictionary and add first_name, last_name, gender, age, marital status, skills, country, city and address as keys for the dictionary\n",
    "\n",
    "students_dic = {\n",
    "'First Name': 'Abdulrahman',\n",
    "'Last name': 'Ilyasu',\n",
    "'Gender': 'Male',\n",
    "'Age': '26 years old',\n",
    "'Marital': 'Single',\n",
    "'Skills': ['excel', 'python', 'SQL','PowerBI', 'Tableau'],\n",
    "'Country': 'Nigeria',\n",
    "'City': 'Ankpa kogi State',\n",
    "'Adress': 'No 6 Kano Street Ankpa'\n",
    "}\n",
    "print(students_dic)\n",
    "print(\"__________________________________________\")\n",
    "\n",
    "print(\"This are the values:\")\n",
    "for student in students_dic.values():\n",
    "    print(student)\n",
    "print(\"__________________________________________\")\n",
    "\n",
    "print(\"This is are the key:\")\n",
    "for student in students_dic.keys():\n",
    "    print(student)\n",
    "print(\"__________________________________________\")\n",
    "\n",
    "print('This are the Values:')\n",
    "for student in students_dic.values():\n",
    "    print(student)\n"
   ]
  },
  {
   "cell_type": "markdown",
   "metadata": {},
   "source": [
    "4. Get the length of the student dictionary"
   ]
  },
  {
   "cell_type": "code",
   "execution_count": 55,
   "metadata": {},
   "outputs": [
    {
     "name": "stdout",
     "output_type": "stream",
     "text": [
      "The length of students dictionaries is:9\n"
     ]
    }
   ],
   "source": [
    "#4. Get the length of the student dictionary\n",
    "students_dic = {\n",
    "'First Name': 'Abdulrahman',\n",
    "'Last name': 'Ilyasu',\n",
    "'Gender': 'Male',\n",
    "'Age': '26 years old',\n",
    "'Marital': 'Single',\n",
    "'Skills': ['excel', 'python', 'SQL','PowerBI', 'Tableau'],\n",
    "'Country': 'Nigeria',\n",
    "'City': 'Ankpa kogi State',\n",
    "'Adress': 'No 6 Kano Street Ankpa'\n",
    "}\n",
    "\n",
    "print(f\"The length of students dictionaries is:{len(students_dic)}\")"
   ]
  },
  {
   "cell_type": "markdown",
   "metadata": {},
   "source": [
    "5. Get the value of skills and check the data type, it should be a list"
   ]
  },
  {
   "cell_type": "code",
   "execution_count": 60,
   "metadata": {},
   "outputs": [
    {
     "name": "stdout",
     "output_type": "stream",
     "text": [
      "['excel', 'python', 'SQL', 'PowerBI', 'Tableau']\n",
      "The skils Data type is: <class 'list'>\n"
     ]
    }
   ],
   "source": [
    "#5. Get the value of skills and check the data type, it should be a list\n",
    "skills = students_dic['Skills']\n",
    "print(skills)\n",
    "\n",
    "print(f\"The skils Data type is: {type(skills)}\")\n"
   ]
  },
  {
   "cell_type": "markdown",
   "metadata": {},
   "source": [
    "6. Modify the skills values by adding one or two skills"
   ]
  },
  {
   "cell_type": "code",
   "execution_count": 65,
   "metadata": {},
   "outputs": [
    {
     "name": "stdout",
     "output_type": "stream",
     "text": [
      "['excel', 'python', 'SQL', 'PowerBI', 'Tableau', ' microsoftword', 'icrosoftword', 'icrosoftword']\n"
     ]
    }
   ],
   "source": [
    "#6. Modify the skills values by adding one or two skills\n",
    "skills.append(\"icrosoftword\")\n",
    "\n",
    "skills.remove(\"\")\n",
    "print(skills)"
   ]
  },
  {
   "cell_type": "markdown",
   "metadata": {},
   "source": [
    "7. Get the dictionary keys as a list"
   ]
  },
  {
   "cell_type": "code",
   "execution_count": 70,
   "metadata": {},
   "outputs": [
    {
     "name": "stdout",
     "output_type": "stream",
     "text": [
      "The keys to list are as follows ['First Name', 'Last name', 'Gender', 'Age', 'Marital', 'Skills', 'Country', 'City', 'Adress'] \n",
      "\n"
     ]
    }
   ],
   "source": [
    "#7. Get the dictionary keys as a list\n",
    "students_dic = {\n",
    "'First Name': 'Abdulrahman',\n",
    "'Last name': 'Ilyasu',\n",
    "'Gender': 'Male',\n",
    "'Age': '26 years old',\n",
    "'Marital': 'Single',\n",
    "'Skills': ['excel', 'python', 'SQL','PowerBI', 'Tableau'],\n",
    "'Country': 'Nigeria',\n",
    "'City': 'Ankpa kogi State',\n",
    "'Adress': 'No 6 Kano Street Ankpa'\n",
    "}\n",
    "key_lst = list(students_dic.keys())\n",
    "print('The keys to list are as follows', key_lst, \"\\n\")"
   ]
  },
  {
   "cell_type": "markdown",
   "metadata": {},
   "source": [
    "8. Get the dictionary values as a list"
   ]
  },
  {
   "cell_type": "code",
   "execution_count": 72,
   "metadata": {},
   "outputs": [
    {
     "name": "stdout",
     "output_type": "stream",
     "text": [
      "['Abdulrahman', 'Ilyasu', 'Male', '26 years old', 'Single', ['excel', 'python', 'SQL', 'PowerBI', 'Tableau'], 'Nigeria', 'Ankpa kogi State', 'No 6 Kano Street Ankpa']\n"
     ]
    }
   ],
   "source": [
    "#8. Get the dictionary values as a list\n",
    "\n",
    "value_lst = list(students_dic.values())\n",
    "print(value_lst)"
   ]
  },
  {
   "cell_type": "markdown",
   "metadata": {},
   "source": [
    "9. Change the dictionary to a list of tuples using _items()_ method"
   ]
  },
  {
   "cell_type": "code",
   "execution_count": 74,
   "metadata": {},
   "outputs": [
    {
     "name": "stdout",
     "output_type": "stream",
     "text": [
      "(('First Name', 'Abdulrahman'), ('Last name', 'Ilyasu'), ('Gender', 'Male'), ('Age', '26 years old'), ('Marital', 'Single'), ('Skills', ['excel', 'python', 'SQL', 'PowerBI', 'Tableau']), ('Country', 'Nigeria'), ('City', 'Ankpa kogi State'), ('Adress', 'No 6 Kano Street Ankpa'))\n"
     ]
    }
   ],
   "source": [
    "#9. Change the dictionary to a list of tuples using _items()_ method\n",
    "\n",
    "tuples_lst = tuple(students_dic.items())\n",
    "print(tuples_lst)"
   ]
  },
  {
   "cell_type": "markdown",
   "metadata": {},
   "source": [
    "10. Delete one of the items in the dictionary"
   ]
  },
  {
   "cell_type": "code",
   "execution_count": 78,
   "metadata": {},
   "outputs": [
    {
     "name": "stdout",
     "output_type": "stream",
     "text": [
      "{'First Name': 'Abdulrahman', 'Last name': 'Ilyasu', 'Gender': 'Male', 'Age': '26 years old', 'Marital': 'Single', 'Skills': ['excel', 'python', 'SQL', 'PowerBI', 'Tableau'], 'Country': 'Nigeria'}\n"
     ]
    }
   ],
   "source": [
    "#10. Delete one of the items in the dictionary\n",
    "students_dic.popitem()\n",
    "print(students_dic)"
   ]
  },
  {
   "cell_type": "markdown",
   "metadata": {},
   "source": [
    "11. Delete one of the dictionaries"
   ]
  },
  {
   "cell_type": "code",
   "execution_count": 79,
   "metadata": {},
   "outputs": [],
   "source": [
    "#11. Delete one of the dictionaries\n",
    "del students_dic"
   ]
  },
  {
   "cell_type": "markdown",
   "metadata": {},
   "source": [
    "## COMPLETE MODULE 6"
   ]
  }
 ],
 "metadata": {
  "kernelspec": {
   "display_name": "Arewa-work-space",
   "language": "python",
   "name": "python3"
  },
  "language_info": {
   "codemirror_mode": {
    "name": "ipython",
    "version": 3
   },
   "file_extension": ".py",
   "mimetype": "text/x-python",
   "name": "python",
   "nbconvert_exporter": "python",
   "pygments_lexer": "ipython3",
   "version": "3.12.7"
  }
 },
 "nbformat": 4,
 "nbformat_minor": 2
}
