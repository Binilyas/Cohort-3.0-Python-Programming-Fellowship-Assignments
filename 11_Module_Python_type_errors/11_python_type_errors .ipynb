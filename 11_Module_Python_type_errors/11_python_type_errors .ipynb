{
 "cells": [
  {
   "cell_type": "markdown",
   "metadata": {},
   "source": [
    "### WELCOME TO MY MODULE 11 OF 30DAYS OF PYTHON PROGRAMING"
   ]
  },
  {
   "cell_type": "markdown",
   "metadata": {},
   "source": [
    "## 💻 Python Type Errors Exercises"
   ]
  },
  {
   "cell_type": "markdown",
   "metadata": {},
   "source": [
    "\n",
    "1. Open you python interactive shell and try all the examples covered in this section."
   ]
  },
  {
   "cell_type": "markdown",
   "metadata": {},
   "source": [
    "#### Types of Error \n",
    "\n",
    "- **SyntaxError** :- This type sof error that occurs when there is missing python important syntax like _comma, closing and open paretexix_ ETC\n",
    "\n",
    "for example \n",
    "\n",
    "``` py\n",
    "age = 25\n",
    "print(\"my name is Ilyasu abdulrahman\", \"My age is:\" age)\n",
    "\n",
    "```\n",
    "The above code will result in the syntax error because of missing comma in the code\n",
    "\n",
    "The correct code is \n",
    "\n",
    "``` py\n",
    "age = 25\n",
    "print(\"my name is Ilyasu abdulrahman\", \"My age is:\", age)\n",
    "```"
   ]
  },
  {
   "cell_type": "code",
   "execution_count": 18,
   "metadata": {},
   "outputs": [
    {
     "ename": "",
     "evalue": "",
     "output_type": "error",
     "traceback": [
      "\u001b[1;31mFailed to start the Kernel. \n",
      "\u001b[1;31mUnable to start Kernel 'Arewa-work-space (Python 3.12.7)' due to a timeout waiting for the ports to get used. \n",
      "\u001b[1;31mView Jupyter <a href='command:jupyter.viewOutput'>log</a> for further details."
     ]
    }
   ],
   "source": [
    "age = 25\n",
    "print(\"my name is Ilyasu abdulrahman\", \"My age is:\" age)"
   ]
  },
  {
   "cell_type": "markdown",
   "metadata": {},
   "source": [
    "- **NameError :-** This types of error when the variable name is not declear. and you were trying to use it in our code \n",
    "\n",
    "for Example \n",
    "\n",
    "``` py\n",
    "print(\"My name is Ahmad idris from\", place)\n",
    "```\n",
    "The above error is that the variable place was not define. This type error is called NameError\n",
    "\n",
    "The correct code is \n",
    "\n",
    "``` py\n",
    "place = \"Ankpa\"\n",
    "print(\"My name is Ahmad Idris from\", place)\n",
    "```"
   ]
  },
  {
   "cell_type": "code",
   "execution_count": null,
   "metadata": {},
   "outputs": [],
   "source": [
    "print(\"My name is Ahmad idris from\", place)"
   ]
  },
  {
   "cell_type": "markdown",
   "metadata": {},
   "source": [
    "- **IndexError :-**\n",
    "This types of error commonly occur in a list or when you are trying to get index number of an alphabet for example \n",
    "\n",
    "```py\n",
    "numbers = [1, 2, 3, 4, 5]\n",
    "print(numbers[5])\n",
    "```\n",
    "the total index in the above list is 4. So when you are calling the index 5 it results into an error because the index is not up to 5\n",
    "\n",
    "The correct code is \n",
    "``` py\n",
    "numbers = [1, 2, 3, 4, 5]\n",
    "print(numbers[4])\n",
    "```"
   ]
  },
  {
   "cell_type": "code",
   "execution_count": null,
   "metadata": {},
   "outputs": [],
   "source": [
    "numbers = [1, 2, 3, 4, 5]\n",
    "print(numbers[5])"
   ]
  },
  {
   "cell_type": "markdown",
   "metadata": {},
   "source": [
    "- **ModuleNotFoundError :-** This types of error occur when you trying to import python built in function. example\n",
    "\n",
    "``` py\n",
    "import maths\n",
    "\n",
    "math.PI\n",
    "```\n",
    "The above code will results into an error the correct code is \n",
    "\n",
    "``` py\n",
    "import math\n",
    "\n",
    "math.pi\n",
    "```"
   ]
  },
  {
   "cell_type": "code",
   "execution_count": null,
   "metadata": {},
   "outputs": [],
   "source": [
    "import maths"
   ]
  },
  {
   "cell_type": "markdown",
   "metadata": {},
   "source": [
    "- **AttributeError :-** This type of error occur when you attribute to a module of attribute that does not exist. it could be spelling, or case sensitive for example\n",
    "\n",
    "``` py\n",
    "import math\n",
    "math.PI\n",
    "```\n",
    "The above will results in Attribute Error Because of case senstive of PI.\n",
    "The correct code is \n",
    "\n",
    "``` py\n",
    "import math\n",
    "math.pi\n",
    "```"
   ]
  },
  {
   "cell_type": "code",
   "execution_count": null,
   "metadata": {},
   "outputs": [],
   "source": [
    "import math\n",
    "math.PI"
   ]
  },
  {
   "cell_type": "markdown",
   "metadata": {},
   "source": [
    "- **KeyError :-** This type of Error normally occur in the dictionary when the is not define or the spelling of particular is not correct for example\n",
    "\n",
    "``` py\n",
    "family = {'name': 'mufidat', 'age': 24, 'country': 'Nigeria'}\n",
    "print(family['contry'])\n",
    "```\n",
    "This will results in an Error because of wrong spelling of the 'dic key'\n",
    "\n",
    "The correct code is \n",
    "\n",
    "``` py \n",
    "user = {'name': 'mufidat', 'age': 24, 'country': 'Nigeria'}\n",
    "print(user['country'])\n",
    "```\n"
   ]
  },
  {
   "cell_type": "code",
   "execution_count": null,
   "metadata": {},
   "outputs": [],
   "source": [
    "family = {'name': 'mufidat', 'age': 24, 'country': 'Nigeria'}\n",
    "print(family['contry'])"
   ]
  },
  {
   "cell_type": "markdown",
   "metadata": {},
   "source": [
    "- **TypeError :-** This type of occur when you tried to add 'int' and 'string together' for example\n",
    "\n",
    "``` py \n",
    "print(3, + '5')\n",
    "```\n",
    "This code will results in TypeError as string cannot be added with int or float\n",
    "\n",
    "To correct the code you have to covert the string by using int function or input the int value \n",
    "for examples \n",
    "\n",
    "``` py \n",
    "add = 3 + int(\"3\")\n",
    "```"
   ]
  },
  {
   "cell_type": "code",
   "execution_count": null,
   "metadata": {},
   "outputs": [],
   "source": [
    "print(3, + '5')"
   ]
  },
  {
   "cell_type": "markdown",
   "metadata": {},
   "source": [
    "- **ImportError :-** This type of error occur when you try to import function that does not in a module. it can be spelling for examples\n",
    "\n",
    "``` py \n",
    "from math import power\n",
    "```\n",
    "The above code will results in an error because there is power function in math module rather than is pow\n",
    "\n",
    "The correct code is \n",
    "\n",
    "``` py \n",
    "from math import pow\n",
    "pow(5,2)\n",
    "```"
   ]
  },
  {
   "cell_type": "code",
   "execution_count": null,
   "metadata": {},
   "outputs": [],
   "source": [
    "from math import power"
   ]
  },
  {
   "cell_type": "markdown",
   "metadata": {},
   "source": [
    "- **ValueError :-** This error occur when a certain type of cannot be coverted to a particular data type for example converting alphabet to int \n",
    "\n",
    "``` py \n",
    "print(int(\"24a\"))\n",
    "```\n",
    "This will resultes in error because the 'a' string cannot be converted to int\n",
    "\n",
    "The correct code is \n",
    "\n",
    "``` py\n",
    "print(int(\"24\"))\n",
    "```"
   ]
  },
  {
   "cell_type": "code",
   "execution_count": null,
   "metadata": {},
   "outputs": [],
   "source": [
    "print(int(\"24a\"))"
   ]
  },
  {
   "cell_type": "markdown",
   "metadata": {},
   "source": [
    "- **ZeroDivisionError** :- This error occur when dividing a number by 0 for examples\n",
    "``` py \n",
    "print 2 / 0\n",
    "```\n",
    "\n",
    "The correct code is you cannot divide a number 0"
   ]
  },
  {
   "cell_type": "code",
   "execution_count": null,
   "metadata": {},
   "outputs": [],
   "source": [
    "print (2 / 0)"
   ]
  },
  {
   "cell_type": "markdown",
   "metadata": {},
   "source": [
    "## Exception Handling/ Packing Unpacking Exercises:"
   ]
  },
  {
   "cell_type": "markdown",
   "metadata": {},
   "source": [
    "1. names = ['Finland', 'Sweden', 'Norway','Denmark','Iceland', 'Estonia','Russia']. Unpack the first five countries and store them in a variable nordic_countries, store Estonia and Russia in es, and ru respectively."
   ]
  },
  {
   "cell_type": "code",
   "execution_count": 44,
   "metadata": {},
   "outputs": [
    {
     "name": "stdout",
     "output_type": "stream",
     "text": [
      "('Finland', 'Sweden', 'Norway', 'Iceland')\n",
      "Estonia\n",
      "Russia\n"
     ]
    }
   ],
   "source": [
    "names = ['Finland', 'Sweden', 'Norway','Denmark','Iceland', 'Estonia','Russia']\n",
    "\n",
    "fin, sw, nor, den, ice, ea, ru = names\n",
    "\n",
    "nordic_countries = (fin, sw, nor, ice)\n",
    "print(nordic_countries)\n",
    "es = (ea)\n",
    "ru = (ru)\n",
    "\n",
    "print(es)\n",
    "print(ru)"
   ]
  },
  {
   "cell_type": "markdown",
   "metadata": {},
   "source": [
    "#### COMPLETE MODULE 11"
   ]
  }
 ],
 "metadata": {
  "kernelspec": {
   "display_name": "Arewa-work-space",
   "language": "python",
   "name": "python3"
  },
  "language_info": {
   "codemirror_mode": {
    "name": "ipython",
    "version": 3
   },
   "file_extension": ".py",
   "mimetype": "text/x-python",
   "name": "python",
   "nbconvert_exporter": "python",
   "pygments_lexer": "ipython3",
   "version": "3.12.7"
  }
 },
 "nbformat": 4,
 "nbformat_minor": 2
}
