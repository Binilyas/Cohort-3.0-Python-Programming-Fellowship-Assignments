{
 "cells": [
  {
   "cell_type": "markdown",
   "metadata": {},
   "source": [
    "### WELCOME TO MY MODULE 7 OF 30DAYS OF PYTHON PROGRAMING"
   ]
  },
  {
   "cell_type": "markdown",
   "metadata": {},
   "source": [
    "## 💻  Conditionals Exercises\n",
    "\n",
    "### Exercises: Level 1\n",
    "\n",
    "1. Get user input using input(“Enter your age: ”). If user is 18 or older, give feedback: You are old enough to drive. If below 18 give feedback to wait for the missing amount of years. Output:"
   ]
  },
  {
   "cell_type": "code",
   "execution_count": 10,
   "metadata": {},
   "outputs": [
    {
     "name": "stdout",
     "output_type": "stream",
     "text": [
      "Sorry you cant drive at this age wait. You have to wait for  3  more years\n"
     ]
    }
   ],
   "source": [
    "#Requesting for user age\n",
    "\n",
    "age = int(input (\"Please enter your age\"))\n",
    "age_diff = 18 - age\n",
    "\n",
    "if age >= 18:\n",
    "    print(\"You are old enough to drive\")\n",
    "else:\n",
    "    print(\"Sorry you cant drive at this age wait. You have to wait for \", age_diff, \" more years\")"
   ]
  },
  {
   "cell_type": "markdown",
   "metadata": {},
   "source": [
    "2. Compare the values of my_age and your_age using if … else. Who is older (me or you)? Use input(“Enter your age: ”) to get the age as input. You can use a nested condition to print 'year' for 1 year difference in age, 'years' for bigger differences, and a custom text if my_age = your_age. Output:"
   ]
  },
  {
   "cell_type": "code",
   "execution_count": 53,
   "metadata": {},
   "outputs": [
    {
     "name": "stdout",
     "output_type": "stream",
     "text": [
      "The age difference is: 1. So am 1years older than you\n"
     ]
    }
   ],
   "source": [
    "#Check when the user age is less than  my age\n",
    "my_age = 26\n",
    "your_age = int(input(\"Enter your age\"))\n",
    "if my_age > your_age:\n",
    "    age_diff = my_age - your_age\n",
    "    print(f'The age difference is: {age_diff}. So am {age_diff}years older than you')\n",
    "elif your_age > my_age:\n",
    "    #Check when  user age is greater  than  my age\n",
    "    print(f'You are {your_age - my_age}years older than me')\n",
    "elif your_age == my_age:\n",
    "    print(\"We are both age mate\")\n",
    "else:\n",
    "    print(\"The both age cannot be determined\")\n",
    "\n"
   ]
  },
  {
   "cell_type": "markdown",
   "metadata": {},
   "source": [
    "3. Get two numbers from the user using input prompt. If a is greater than b return a is greater than b, if a is less b return a is smaller than b, else a is equal to b. Output:"
   ]
  },
  {
   "cell_type": "code",
   "execution_count": 57,
   "metadata": {},
   "outputs": [
    {
     "name": "stdout",
     "output_type": "stream",
     "text": [
      "Second Number is greater than by  10\n"
     ]
    }
   ],
   "source": [
    "num_1 = int(input(\"Enter the first number\"))\n",
    "num_2 = int(input(\"Enter the Second Number\"))\n",
    "if num_1 > num_2:\n",
    "    print(\"The first Number is greater than Second number by :\", num_1 - num_2)\n",
    "elif num_1 < num_2:\n",
    "    print(\"Second Number is greater than by \", num_2 - num_1)\n",
    "else:\n",
    "    print(\"The two numbers are equal\")"
   ]
  },
  {
   "cell_type": "markdown",
   "metadata": {},
   "source": [
    "### Exercises: Level 2\n",
    "\n",
    "   1. Write a code which gives grade to students according to theirs scores:\n",
    "\n",
    "        80-100, A\n",
    "\n",
    "        70-89, B\n",
    "\n",
    "        60-69, C\n",
    "\n",
    "        50-59, D\n",
    "        \n",
    "        0-49, F"
   ]
  },
  {
   "cell_type": "code",
   "execution_count": 63,
   "metadata": {},
   "outputs": [
    {
     "name": "stdout",
     "output_type": "stream",
     "text": [
      "The Student score F\n"
     ]
    }
   ],
   "source": [
    "student = int(input(\"Enter your score \"))\n",
    "if student >= 80:\n",
    "    print(\"The student got: A\")\n",
    "elif student >= 70:\n",
    "    print(\"The student got B\")\n",
    "elif student >= 60:\n",
    "    print(\"The student got C\")\n",
    "elif student >=50:\n",
    "    print(\"The student got D\")\n",
    "else:\n",
    "    print(\"The Student score F\")\n"
   ]
  },
  {
   "cell_type": "markdown",
   "metadata": {},
   "source": [
    "2.  Check if the season is Autumn, Winter, Spring or Summer. If the user input is:\n",
    "    September, October or November, the season is Autumn.\n",
    "    December, January or February, the season is Winter.\n",
    "    March, April or May, the season is Spring\n",
    "    June, July or August, the season is Summer"
   ]
  },
  {
   "cell_type": "code",
   "execution_count": 20,
   "metadata": {},
   "outputs": [
    {
     "name": "stdout",
     "output_type": "stream",
     "text": [
      "The Season is Winter\n"
     ]
    }
   ],
   "source": [
    "user_input = str(input(\"Enter the month\"))\n",
    "if user_input in (\"october\", \"november\", \"september\"):\n",
    "    print(\"The Season is Autumn\")\n",
    "elif user_input in (\"december\", \"january\", 'february'):\n",
    "    print(\"The Season is Winter\")\n",
    "elif user_input in (\"march\", \"april\", \"may\"):\n",
    "    print(\"The Season is Spring\")\n",
    "elif user_input in (\"june\" ,\"july\", \"august\"):\n",
    "    print(\"The season is Summer\")\n",
    "else:\n",
    "    print(\"The Month Not fund check you speliing and try again\")"
   ]
  },
  {
   "cell_type": "markdown",
   "metadata": {},
   "source": [
    "2. The following list contains some fruits:\n",
    "    fruits = ['banana', 'orange', 'mango', 'lemon']\n",
    "    If a fruit doesn't exist in the list add the fruit to the list and print the modified list. If the fruit exists print('That fruit already exist in the list')"
   ]
  },
  {
   "cell_type": "code",
   "execution_count": 34,
   "metadata": {},
   "outputs": [
    {
     "name": "stdout",
     "output_type": "stream",
     "text": [
      "['banana', 'orange', 'mango', 'lemon', 'apple']\n"
     ]
    }
   ],
   "source": [
    "fruits = ['banana', 'orange', 'mango', 'lemon']\n",
    "fruit_1 = input(\"Enter the Fruit\")\n",
    "if fruit_1 not in fruits:\n",
    "    fruits.append(fruit_1)\n",
    "    print(fruits)\n",
    "else:\n",
    "    print(\"Fruit already exist\")"
   ]
  },
  {
   "cell_type": "markdown",
   "metadata": {},
   "source": [
    "### Exercises: Level 3\n",
    "\n",
    "   1. Here we have a person dictionary. Feel free to modify it!\n",
    "\n",
    "\n",
    "        person={\n",
    "    'first_name': 'Asabeneh',\n",
    "    'last_name': 'Yetayeh',\n",
    "    'age': 250,\n",
    "    'country': 'Finland',\n",
    "    'is_marred': True,\n",
    "    'skills': ['JavaScript', 'React', 'Node', 'MongoDB', 'Python'],\n",
    "    'address': {\n",
    "        'street': 'Space street',\n",
    "        'zipcode': '02210'\n",
    "    }\n",
    "    }\n",
    "\n",
    " Check if the person dictionary has skills key, if so print out the middle skill in the skills list.\n",
    "\n",
    " * Check if the person dictionary has skills key, if so check if the person has 'Python' skill and print out the result.\n",
    "  \n",
    "* If a person skills has only JavaScript and React, print('He is a front end developer'), if the person skills has Node, Python, MongoDB, print('He is a backend developer'), if the person skills has React, Node and MongoDB, Print('He is a fullstack developer'), else print('unknown title') - for more accurate results more conditions can be nested!\n",
    "* If the person is married and if he lives in Finland, print the information in the following format:"
   ]
  },
  {
   "cell_type": "code",
   "execution_count": 70,
   "metadata": {},
   "outputs": [
    {
     "name": "stdout",
     "output_type": "stream",
     "text": [
      "He is front End developer\n",
      "________________________________________________\n",
      "he is a backend developer\n",
      "Abdulrahman Ilyasu lives in Nigeria. He is NOT married .\n"
     ]
    }
   ],
   "source": [
    "person={\n",
    "    'first_name': 'Abdulrahman',\n",
    "    'last_name': 'Ilyasu',\n",
    "    'age': 26,\n",
    "    'country': 'Nigeria',\n",
    "    'is_married': True,\n",
    "    'skills': ['JavaScript', 'React', 'Node', 'MongoDB', 'Python'],\n",
    "    'address': {\n",
    "        'street': 'Space street',\n",
    "        'zipcode': '02210'\n",
    "    }\n",
    "    }\n",
    "\n",
    "#SOLUTION\n",
    "if 'JavaScript' or 'React' in person['skills']:\n",
    "    print('He is front End developer')\n",
    "else: print(\"He dont front end skills \")\n",
    "print(\"________________________________________________\")\n",
    "\n",
    "if 'Node' or 'Python' or 'MongoDb' in person['skills']:\n",
    "    print(\"he is a backend developer\")\n",
    "else:\n",
    "    print(\"unknow title\")\n",
    "\n",
    "\n",
    "#If the person is married and if he lives in Finland, print the information in the following format:\n",
    "if person.get('is_married') and person.get('country') == 'Nigeria':\n",
    "    print(f\"{person['first_name']} {person['last_name']} lives in Nigeria. He is NOT married .\")\n",
    "else:\n",
    "    print(\"The person is either not married or does not live in Finland.\")"
   ]
  }
 ],
 "metadata": {
  "kernelspec": {
   "display_name": "Arewa-work-space",
   "language": "python",
   "name": "python3"
  },
  "language_info": {
   "codemirror_mode": {
    "name": "ipython",
    "version": 3
   },
   "file_extension": ".py",
   "mimetype": "text/x-python",
   "name": "python",
   "nbconvert_exporter": "python",
   "pygments_lexer": "ipython3",
   "version": "3.12.7"
  }
 },
 "nbformat": 4,
 "nbformat_minor": 2
}
