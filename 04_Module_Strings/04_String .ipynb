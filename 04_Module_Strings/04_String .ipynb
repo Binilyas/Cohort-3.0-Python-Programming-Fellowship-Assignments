{
 "cells": [
  {
   "cell_type": "markdown",
   "metadata": {},
   "source": [
    "### **WELCOME TO MY MODULE 4 30-DAYS OF PYTHON PROGRAMMING**"
   ]
  },
  {
   "cell_type": "markdown",
   "metadata": {},
   "source": [
    "## 💻 Exercises - Module 4"
   ]
  },
  {
   "cell_type": "markdown",
   "metadata": {},
   "source": [
    "1. Concatenate the string 'Thirty', 'Days', 'Of', 'Python' to a single string, 'Thirty Days Of Python'.\n",
    "2.  Use rfind to determine the position of the last occurrence of l in Coding For All People.\n",
    "3.  Use index or find to find the position of the first occurrence of the word 'because' in the following sentence: 'You cannot end a sentence with because because because is a conjunction'\n",
    "4.  Use rindex to find the position of the last occurrence of the word because in the following sentence: 'You cannot end a sentence with because because because is a conjunction'\n",
    "5.  Slice out the phrase 'because because because' in the following sentence: 'You cannot end a sentence with because because because is a conjunction'\n",
    "6.  Find the position of the first occurrence of the word 'because' in the following sentence: 'You cannot end a sentence with because because because is a conjunction'\n",
    "7.  Slice out the phrase 'because because because' in the following sentence: 'You cannot end a sentence with because because because is a conjunction'\n",
    "8.  Does '\\'Coding For All' start with a substring _Coding_?\n",
    "9.  Does 'Coding For All' end with a substring _coding_?"
   ]
  },
  {
   "cell_type": "code",
   "execution_count": 47,
   "metadata": {},
   "outputs": [
    {
     "name": "stdout",
     "output_type": "stream",
     "text": [
      "Thirty Days of Python\n",
      "\t'Thirty' 'Days' 'of' 'python'\n"
     ]
    }
   ],
   "source": [
    "#Concatenate the string 'Thirty', 'Days', 'Of', 'Python' to a single string, 'Thirty Days Of Python'.\n",
    "\n",
    "print(\"Thirty\" + \" \" \"Days\" + \" \" + \"of\" + \" \" \"Python\")\n",
    "print(\"\\t'Thirty'\" + \" \" + \"'Days'\" + \" \" + \"'of'\" + \" \" + \"'python'\")"
   ]
  },
  {
   "cell_type": "markdown",
   "metadata": {},
   "source": [
    "2. Concatenate the string 'Coding', 'For' , 'All' to a single string, 'Coding For All'."
   ]
  },
  {
   "cell_type": "code",
   "execution_count": 48,
   "metadata": {},
   "outputs": [
    {
     "name": "stdout",
     "output_type": "stream",
     "text": [
      "'Coding for all .'\n",
      "\"Coding for all\" .\n"
     ]
    }
   ],
   "source": [
    "print(\"'Coding for all .'\")\n",
    "print('\"Coding for all\" .')"
   ]
  },
  {
   "cell_type": "markdown",
   "metadata": {},
   "source": [
    "3. Declare a variable named company and assign it to an initial value \"Coding For All\"."
   ]
  },
  {
   "cell_type": "code",
   "execution_count": 49,
   "metadata": {},
   "outputs": [
    {
     "name": "stdout",
     "output_type": "stream",
     "text": [
      "Conding For All.\n"
     ]
    }
   ],
   "source": [
    "## Declare a variable named company and assign it to an initial value \"Coding For All\".\n",
    "\n",
    "company = \"Conding For All.\"\n",
    "print(company)"
   ]
  },
  {
   "cell_type": "markdown",
   "metadata": {},
   "source": [
    "4. Print the length of the company string using _len()_ method and _print()_."
   ]
  },
  {
   "cell_type": "code",
   "execution_count": 50,
   "metadata": {},
   "outputs": [
    {
     "name": "stdout",
     "output_type": "stream",
     "text": [
      "The lens of the company is: 16\n",
      "Conding For All..\n"
     ]
    }
   ],
   "source": [
    "#Print the length of the company string using _len()_ method and _print()_.\n",
    "print(f'The lens of the company is:', len(company))\n",
    "\n",
    "\n",
    "print(company + \".\")"
   ]
  },
  {
   "cell_type": "markdown",
   "metadata": {},
   "source": [
    "5. Change all the characters to uppercase letters using _upper()_ method."
   ]
  },
  {
   "cell_type": "code",
   "execution_count": 51,
   "metadata": {},
   "outputs": [
    {
     "name": "stdout",
     "output_type": "stream",
     "text": [
      "CONDING FOR ALL.\n"
     ]
    }
   ],
   "source": [
    "# Change all the characters to uppercase letters using _upper()_ method.\n",
    "print(company.upper())"
   ]
  },
  {
   "cell_type": "markdown",
   "metadata": {},
   "source": [
    "6. Change all the characters to lowercase letters using _lower()_ method."
   ]
  },
  {
   "cell_type": "code",
   "execution_count": 52,
   "metadata": {},
   "outputs": [
    {
     "name": "stdout",
     "output_type": "stream",
     "text": [
      "conding for all.\n"
     ]
    }
   ],
   "source": [
    "#Change all the characters to lowercase letters using _lower()_ method.\n",
    "print(company.lower())"
   ]
  },
  {
   "cell_type": "markdown",
   "metadata": {},
   "source": [
    "7. Use capitalize(), title(), swapcase() methods to format the value of the string _Coding For All_."
   ]
  },
  {
   "cell_type": "code",
   "execution_count": 53,
   "metadata": {},
   "outputs": [
    {
     "name": "stdout",
     "output_type": "stream",
     "text": [
      "Conding for all.\n",
      "Conding For All.\n",
      "cONDING fOR aLL.\n"
     ]
    }
   ],
   "source": [
    "#Use capitalize(), title(), swapcase() methods to format the value of the string _Coding For All_.\n",
    "\n",
    "print(company.capitalize())\n",
    "print(company.title())\n",
    "print(company.swapcase())\n",
    "\n"
   ]
  },
  {
   "cell_type": "markdown",
   "metadata": {},
   "source": [
    "8. Cut(slice) out the first word of _Coding For All_ string."
   ]
  },
  {
   "cell_type": "code",
   "execution_count": 54,
   "metadata": {},
   "outputs": [
    {
     "name": "stdout",
     "output_type": "stream",
     "text": [
      "C\n",
      "o\n",
      "n\n"
     ]
    }
   ],
   "source": [
    "# Cut(slice) out the first word of _Coding For All_ string.\n",
    "\n",
    "print(company[0])\n",
    "print(company[1])\n",
    "print(company[2])"
   ]
  },
  {
   "cell_type": "markdown",
   "metadata": {},
   "source": [
    "9. Check if _Coding For All_ string contains a word Coding using the method index, find or other methods."
   ]
  },
  {
   "cell_type": "code",
   "execution_count": 55,
   "metadata": {},
   "outputs": [
    {
     "name": "stdout",
     "output_type": "stream",
     "text": [
      "0\n",
      "0\n",
      "False\n",
      "True\n"
     ]
    }
   ],
   "source": [
    "#Check if _Coding For All_ string contains a word Coding using the method index, find or other methods.\n",
    "company = \"Coding for all\"\n",
    "X = \"Coding\"\n",
    "print(company.index(X))\n",
    "print(company.find(\"Coding\"))\n",
    "print(company.startswith(\"coding\"))\n",
    "print(company.endswith(\"all\"))"
   ]
  },
  {
   "cell_type": "markdown",
   "metadata": {},
   "source": [
    "11. Replace the word coding in the string 'Coding For All' to Python."
   ]
  },
  {
   "cell_type": "code",
   "execution_count": 56,
   "metadata": {},
   "outputs": [
    {
     "name": "stdout",
     "output_type": "stream",
     "text": [
      "Python for all.\n"
     ]
    }
   ],
   "source": [
    "#Replace the word coding in the string 'Coding For All' to Python.\n",
    "company = \"conding for all.\"\n",
    "print(company.replace(\"conding\",  \"Python\"))\n"
   ]
  },
  {
   "cell_type": "markdown",
   "metadata": {},
   "source": [
    "12. Change Python for Everyone to Python for All using the replace method or other methods."
   ]
  },
  {
   "cell_type": "code",
   "execution_count": 57,
   "metadata": {},
   "outputs": [
    {
     "name": "stdout",
     "output_type": "stream",
     "text": [
      "Python for All\n"
     ]
    }
   ],
   "source": [
    "#Change Python for Everyone to Python for All using the replace method or other methods.\n",
    "\n",
    "company = \"Python for everyone\"\n",
    "print(company.replace(\"everyone\", \"All\"))"
   ]
  },
  {
   "cell_type": "markdown",
   "metadata": {},
   "source": [
    "13. Split the string 'Coding For All' using space as the separator (split()) ."
   ]
  },
  {
   "cell_type": "code",
   "execution_count": 58,
   "metadata": {},
   "outputs": [
    {
     "name": "stdout",
     "output_type": "stream",
     "text": [
      "['coding', 'for', 'all.']\n"
     ]
    }
   ],
   "source": [
    "#Split the string 'Coding For All' using space as the separator (split()) .\n",
    "\n",
    "company = \"coding for all.\"\n",
    "print(company.split())"
   ]
  },
  {
   "cell_type": "markdown",
   "metadata": {},
   "source": [
    "14. \"Facebook, Google, Microsoft, Apple, IBM, Oracle, Amazon\" split the string at the comma."
   ]
  },
  {
   "cell_type": "code",
   "execution_count": 59,
   "metadata": {},
   "outputs": [
    {
     "name": "stdout",
     "output_type": "stream",
     "text": [
      "['Facebook', ' Google', ' Microsoft', ' Apple', ' IBM', ' Oracle', ' Amazon']\n"
     ]
    }
   ],
   "source": [
    "#\"Facebook, Google, Microsoft, Apple, IBM, Oracle, Amazon\" split the string at the comma.\n",
    "\n",
    "companies = \"Facebook, Google, Microsoft, Apple, IBM, Oracle, Amazon\"\n",
    "print(companies.split(\",\"))"
   ]
  },
  {
   "cell_type": "markdown",
   "metadata": {},
   "source": [
    "15.  What is the character at index 0 in the string _Coding For All_."
   ]
  },
  {
   "cell_type": "code",
   "execution_count": 60,
   "metadata": {},
   "outputs": [
    {
     "name": "stdout",
     "output_type": "stream",
     "text": [
      "c\n"
     ]
    }
   ],
   "source": [
    "# What is the character at index 0 in the string _Coding For All_.\n",
    "print(company[0])"
   ]
  },
  {
   "cell_type": "markdown",
   "metadata": {},
   "source": [
    "16. What is the last index of the string _Coding For All_."
   ]
  },
  {
   "cell_type": "code",
   "execution_count": 61,
   "metadata": {},
   "outputs": [
    {
     "name": "stdout",
     "output_type": "stream",
     "text": [
      ".\n"
     ]
    }
   ],
   "source": [
    "#What is the last index of the string _Coding For All_.\n",
    "print(company[-1])"
   ]
  },
  {
   "cell_type": "markdown",
   "metadata": {},
   "source": [
    "17. What character is at index 10 in \"Coding For All\" string."
   ]
  },
  {
   "cell_type": "code",
   "execution_count": 62,
   "metadata": {},
   "outputs": [
    {
     "name": "stdout",
     "output_type": "stream",
     "text": [
      "r\n"
     ]
    }
   ],
   "source": [
    "# What character is at index 10 in \"Coding For All\" string.\n",
    "print(company[9])"
   ]
  },
  {
   "cell_type": "markdown",
   "metadata": {},
   "source": [
    "18. Create an acronym or an abbreviation for the name 'Python For Everyone'"
   ]
  },
  {
   "cell_type": "code",
   "execution_count": 63,
   "metadata": {},
   "outputs": [
    {
     "name": "stdout",
     "output_type": "stream",
     "text": [
      "PFE: Python for evereyone\n"
     ]
    }
   ],
   "source": [
    "#Create an acronym or an abbreviation for the name 'Python For Everyone'\n",
    "\n",
    "message = \"Python for evereyone\"\n",
    "acrononmy = \"PFE\"\n",
    "abbreviation = (f'{acrononmy.upper()}: {message}')\n",
    "print(abbreviation)"
   ]
  },
  {
   "cell_type": "markdown",
   "metadata": {},
   "source": [
    "19. Create an acronym or an abbreviation for the name 'Coding For All'."
   ]
  },
  {
   "cell_type": "code",
   "execution_count": 64,
   "metadata": {},
   "outputs": [
    {
     "name": "stdout",
     "output_type": "stream",
     "text": [
      "CFA: Conding For All\n"
     ]
    }
   ],
   "source": [
    "#Create an acronym or an abbreviation for the name 'Coding For All'.\n",
    "\n",
    "message = \"Conding For All\"\n",
    "acrononmy = \"cfa\"\n",
    "abbreviation = (f'{acrononmy.upper()}: {message}')\n",
    "print(abbreviation)"
   ]
  },
  {
   "cell_type": "markdown",
   "metadata": {},
   "source": [
    "20. Use index to determine the position of the first occurrence of C in Coding For All."
   ]
  },
  {
   "cell_type": "code",
   "execution_count": 65,
   "metadata": {},
   "outputs": [
    {
     "name": "stdout",
     "output_type": "stream",
     "text": [
      "0\n"
     ]
    }
   ],
   "source": [
    "#Use index to determine the position of the first occurrence of C in Coding For All.\n",
    "\n",
    "message = \"coding for all.\"\n",
    "print(message.index(\"c\"))"
   ]
  },
  {
   "cell_type": "markdown",
   "metadata": {},
   "source": [
    "21. Use index to determine the position of the first occurrence of F in Coding For All."
   ]
  },
  {
   "cell_type": "code",
   "execution_count": 66,
   "metadata": {},
   "outputs": [
    {
     "name": "stdout",
     "output_type": "stream",
     "text": [
      "7\n"
     ]
    }
   ],
   "source": [
    "#Use index to determine the position of the first occurrence of F in Coding For All.\n",
    "\n",
    "print(message.index(\"f\"))"
   ]
  },
  {
   "cell_type": "markdown",
   "metadata": {},
   "source": [
    "22. Use rfind to determine the position of the last occurrence of l in Coding For All People."
   ]
  },
  {
   "cell_type": "code",
   "execution_count": 67,
   "metadata": {},
   "outputs": [
    {
     "name": "stdout",
     "output_type": "stream",
     "text": [
      "13\n"
     ]
    }
   ],
   "source": [
    "#Use rfind to determine the position of the last occurrence of l in Coding For All People.\n",
    "\n",
    "message = \"Coding for all\"\n",
    "print(message.rfind(\"l\"))"
   ]
  },
  {
   "cell_type": "markdown",
   "metadata": {},
   "source": [
    "23. Use index or find to find the position of the first occurrence of the word 'because' in the following sentence: 'You cannot end a sentence with because because because is a conjunction'"
   ]
  },
  {
   "cell_type": "code",
   "execution_count": 68,
   "metadata": {},
   "outputs": [
    {
     "name": "stdout",
     "output_type": "stream",
     "text": [
      "31\n",
      "31\n"
     ]
    }
   ],
   "source": [
    "#23. Use index or find to find the position of the first occurrence of the word 'because' in the following sentence: 'You cannot end a sentence with because because because is a conjunction'\n",
    "\n",
    "sentence = \"You cannot end a sentence with because because because is a conjunction\"\n",
    "print(sentence.find(\"because\"))\n",
    "print(sentence.index(\"because\"))"
   ]
  },
  {
   "cell_type": "markdown",
   "metadata": {},
   "source": [
    "24. Use rindex to find the position of the last occurrence of the word because in the following sentence: 'You cannot end a sentence with because because because is a conjunction'"
   ]
  },
  {
   "cell_type": "code",
   "execution_count": 69,
   "metadata": {},
   "outputs": [
    {
     "name": "stdout",
     "output_type": "stream",
     "text": [
      "47\n",
      "47\n"
     ]
    }
   ],
   "source": [
    "#24. Use rindex to find the position of the last occurrence of the word because in the following sentence: 'You cannot end a sentence with because because because is a conjunction'\n",
    "\n",
    "sentence = \"you cannot end a sentence with because because because is a conjunction\"\n",
    "print(sentence.rfind(\"because\"))\n",
    "print(sentence.rindex('because'))"
   ]
  },
  {
   "cell_type": "markdown",
   "metadata": {},
   "source": [
    "25. Slice out the phrase 'because because because' in the following sentence: 'You cannot end a sentence with because because because is a conjunction'"
   ]
  },
  {
   "cell_type": "code",
   "execution_count": 70,
   "metadata": {},
   "outputs": [
    {
     "name": "stdout",
     "output_type": "stream",
     "text": [
      "You cannot end a sentence with because because because is a conjunction\n",
      "['You cannot end a sentence with ', ' is a conjunction']\n"
     ]
    }
   ],
   "source": [
    "#25. Slice out the phrase 'because because because' in the following sentence: 'You cannot end a sentence with because because because is a conjunction'\n",
    "message = \"You cannot end a sentence with because because because is a conjunction\"\n",
    "print(message.strip(\"because because because\"))\n",
    "\n",
    "print(message.split(\"because because because\"))"
   ]
  },
  {
   "cell_type": "markdown",
   "metadata": {},
   "source": [
    "26. Find the position of the first occurrence of the word 'because' in the following sentence: 'You cannot end a sentence with because because because is a conjunction'"
   ]
  },
  {
   "cell_type": "code",
   "execution_count": 71,
   "metadata": {},
   "outputs": [
    {
     "name": "stdout",
     "output_type": "stream",
     "text": [
      "31\n",
      "31\n",
      "47\n",
      "47\n"
     ]
    }
   ],
   "source": [
    "#Find the position of the first occurrence of the word 'because' in the following sentence: 'You cannot end a sentence with because because because is a conjunction'\n",
    "message = \"You cannot end a sentence with because because because is a conjunction\"\n",
    "print(message.find(\"because\"))\n",
    "print(message.index(\"because\"))\n",
    "print(message.rfind(\"because\"))\n",
    "print(message.rindex('because'))"
   ]
  },
  {
   "cell_type": "markdown",
   "metadata": {},
   "source": [
    "27. Does '\\'Coding For All' start with a substring _Coding_?"
   ]
  },
  {
   "cell_type": "code",
   "execution_count": 72,
   "metadata": {},
   "outputs": [
    {
     "name": "stdout",
     "output_type": "stream",
     "text": [
      "True\n"
     ]
    }
   ],
   "source": [
    "#Does '\\'Coding For All' start with a substring _Coding_?\n",
    "message = \"Coding for all\"\n",
    "print(message.startswith('Coding'))"
   ]
  },
  {
   "cell_type": "markdown",
   "metadata": {},
   "source": [
    "28. Does 'Coding For All' end with a substring _coding_?"
   ]
  },
  {
   "cell_type": "code",
   "execution_count": 73,
   "metadata": {},
   "outputs": [
    {
     "name": "stdout",
     "output_type": "stream",
     "text": [
      "False\n"
     ]
    }
   ],
   "source": [
    "#Does 'Coding For All' end with a substring _coding_?\n",
    "\n",
    "message = \"Coding for all\"\n",
    "print(message.endswith(\"Coding\"))"
   ]
  },
  {
   "cell_type": "markdown",
   "metadata": {},
   "source": [
    "29. &nbsp;&nbsp; Coding For All &nbsp;&nbsp;&nbsp; &nbsp;' &nbsp;, remove the left and right trailing spaces in the given string."
   ]
  },
  {
   "cell_type": "code",
   "execution_count": 74,
   "metadata": {},
   "outputs": [
    {
     "name": "stdout",
     "output_type": "stream",
     "text": [
      "&nbsp;&nbsp; Coding For All &nbsp;&nbsp;&nbsp; &nbsp;' &nbsp;\n",
      "&nbsp;&nbsp; Coding For All &nbsp;&nbsp;&nbsp; &nbsp;' &nbsp;\n",
      "&nbsp;&nbsp; Coding For All &nbsp;&nbsp;&nbsp; &nbsp;' &nbsp;\n"
     ]
    }
   ],
   "source": [
    "remove_space = \"&nbsp;&nbsp; Coding For All &nbsp;&nbsp;&nbsp; &nbsp;' &nbsp;\"\n",
    "print(remove_space.rstrip())\n",
    "print(remove_space.lstrip())\n",
    "print(remove_space.strip())"
   ]
  },
  {
   "cell_type": "markdown",
   "metadata": {},
   "source": [
    " 31. Which one of the following variables return True when we use the method isidentifier():\n",
    "    - 30DaysOfPython\n",
    "    - thirty_days_of_python"
   ]
  },
  {
   "cell_type": "code",
   "execution_count": 75,
   "metadata": {},
   "outputs": [
    {
     "name": "stdout",
     "output_type": "stream",
     "text": [
      "False\n",
      "True\n"
     ]
    }
   ],
   "source": [
    "#31. Which one of the following variables return True when we use the method isidentifier():\n",
    "    #- 30DaysOfPython\n",
    "    #- thirty_days_of_python\n",
    "\n",
    "checking = \"30DaysOfPython\"\n",
    "checking_2 = \"thirty_days_of_pytho\"\n",
    "print(checking.isidentifier())\n",
    "print(checking_2.isidentifier())"
   ]
  },
  {
   "cell_type": "markdown",
   "metadata": {},
   "source": [
    "32. The following list contains the names of some of python libraries: ['Django', 'Flask', 'Bottle', 'Pyramid', 'Falcon']. Join the list with a hash with space string."
   ]
  },
  {
   "cell_type": "code",
   "execution_count": 76,
   "metadata": {},
   "outputs": [
    {
     "name": "stdout",
     "output_type": "stream",
     "text": [
      "Django# Flask# Bottle# Pyramid# Falcon\n",
      "# Django\n",
      "# Flask\n",
      "# Bottle\n",
      "# Pyramid\n",
      "# Falcon\n"
     ]
    }
   ],
   "source": [
    "#32. The following list contains the names of some of python libraries: ['Django', 'Flask', 'Bottle', 'Pyramid', 'Falcon']. Join the list with a hash with space string.\n",
    "\n",
    "library = ['Django', 'Flask', 'Bottle', 'Pyramid', 'Falcon']\n",
    "result = '# '.join(library)\n",
    "print(result)\n",
    "\n",
    "#OR\n",
    "print(f'# {library[0]}')\n",
    "print(f'# {library[1]}')\n",
    "print(f'# {library[2]}')\n",
    "print(f'# {library[3]}')\n",
    "print(f'# {library[4]}')"
   ]
  },
  {
   "cell_type": "markdown",
   "metadata": {},
   "source": [
    "33. Use the new line escape sequence to separate the following sentences.\n",
    "    I am enjoying this challenge.\n",
    "    I just wonder what is next."
   ]
  },
  {
   "cell_type": "code",
   "execution_count": 77,
   "metadata": {},
   "outputs": [
    {
     "name": "stdout",
     "output_type": "stream",
     "text": [
      "I am enjoying this challenge.\n",
      "I just wonder what is next\n"
     ]
    }
   ],
   "source": [
    "print('''I am enjoying this challenge.\\nI just wonder what is next''')"
   ]
  },
  {
   "cell_type": "markdown",
   "metadata": {},
   "source": [
    "34.  Use a tab escape sequence to write the following lines.\n",
    "\n",
    "    Name      Age     Country   City\n",
    "    Asabeneh  250     Finland   Helsinki"
   ]
  },
  {
   "cell_type": "code",
   "execution_count": 78,
   "metadata": {},
   "outputs": [
    {
     "name": "stdout",
     "output_type": "stream",
     "text": [
      "Name         \tAge           \tCountry           \tcity\n",
      "Asabeneh      \t250          \tFinland            \tHeksinki\n"
     ]
    }
   ],
   "source": [
    "#Use a tab escape sequence to write the following lines.\n",
    "\n",
    "    #Name      Age     Country   City\n",
    "    #Asabeneh  250     Finland   Helsinki\n",
    "\n",
    "\n",
    "print(\"Name         \\tAge           \\tCountry           \\tcity\")\n",
    "print(\"Asabeneh      \\t250          \\tFinland            \\tHeksinki\")"
   ]
  },
  {
   "cell_type": "markdown",
   "metadata": {},
   "source": [
    "35. Use the string formatting method to display the following"
   ]
  },
  {
   "cell_type": "code",
   "execution_count": 79,
   "metadata": {},
   "outputs": [
    {
     "name": "stdout",
     "output_type": "stream",
     "text": [
      "The Area of a Cycle is: 314.0metere\n"
     ]
    }
   ],
   "source": [
    "#se the string formatting method to display the following\n",
    "radius = 10\n",
    "area = 3.14 * radius ** 2\n",
    "print(f'The Area of a Cycle is: {area}metere')"
   ]
  },
  {
   "cell_type": "markdown",
   "metadata": {},
   "source": [
    "36. Make the following using string formatting methods:"
   ]
  },
  {
   "cell_type": "code",
   "execution_count": 80,
   "metadata": {},
   "outputs": [
    {
     "name": "stdout",
     "output_type": "stream",
     "text": [
      "7 + 9 = 16\n",
      "7 - 9 = -2\n",
      "7 * 9 = 63\n",
      "7 / 9 = 0.78\n",
      "7 % 9 = 7\n",
      "7 // 9 = 0\n",
      "7 ** 9 = 40353607\n"
     ]
    }
   ],
   "source": [
    "a = 7\n",
    "b = 9\n",
    "print(f'{a} + {b} = {a +b}')\n",
    "print(f'{a} - {b} = {a - b}')\n",
    "print(f'{a} * {b} = {a * b}')\n",
    "print(f'{a} / {b} = {a / b:.2f}')\n",
    "print(f'{a} % {b} = {a % b}')\n",
    "print(f'{a} // {b} = {a // b}')\n",
    "print(f'{a} ** {b} = {a ** b}')"
   ]
  },
  {
   "cell_type": "markdown",
   "metadata": {},
   "source": [
    "## MODULE 4 COMPLETED "
   ]
  }
 ],
 "metadata": {
  "kernelspec": {
   "display_name": "Arewa-work-space",
   "language": "python",
   "name": "python3"
  },
  "language_info": {
   "codemirror_mode": {
    "name": "ipython",
    "version": 3
   },
   "file_extension": ".py",
   "mimetype": "text/x-python",
   "name": "python",
   "nbconvert_exporter": "python",
   "pygments_lexer": "ipython3",
   "version": "3.12.7"
  }
 },
 "nbformat": 4,
 "nbformat_minor": 2
}
