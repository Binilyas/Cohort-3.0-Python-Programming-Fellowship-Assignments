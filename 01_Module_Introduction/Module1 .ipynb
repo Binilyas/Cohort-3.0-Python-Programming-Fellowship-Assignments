{
 "cells": [
  {
   "cell_type": "markdown",
   "metadata": {},
   "source": [
    "### WELCOME TO MY MODULE 1 EXERCISE ON 30-DAY-OF PHYTHON"
   ]
  },
  {
   "cell_type": "markdown",
   "metadata": {},
   "source": [
    "#### BASIC MATHEMATICS OPERATION IN PYTHON (_OPERATOR_)"
   ]
  },
  {
   "cell_type": "code",
   "execution_count": 4,
   "metadata": {},
   "outputs": [
    {
     "name": "stdout",
     "output_type": "stream",
     "text": [
      "150\n",
      "80\n",
      "110\n",
      "6.0\n",
      "20.5\n",
      "113.6\n"
     ]
    }
   ],
   "source": [
    "#DAy 1 Challenge \n",
    "\n",
    "print(60 + 90)      #Addition of intergers\n",
    "print(20 + 60)      #Addition of intergers\n",
    "print(14 + 96)      #Addition of intergers\n",
    "print(2.0 + 4.0)    #Addition of float Number\n",
    "print(9.9 + 10.6)   #Addition of float number\n",
    "print(17.60 + 96.0) #addition of float number"
   ]
  },
  {
   "cell_type": "code",
   "execution_count": 5,
   "metadata": {},
   "outputs": [
    {
     "name": "stdout",
     "output_type": "stream",
     "text": [
      "100\n",
      "30\n",
      "-100\n",
      "19.999999999999993\n",
      "0.20000000000000284\n",
      "47.230000000000004\n"
     ]
    }
   ],
   "source": [
    "# Substraction \n",
    "print(300 - 200)        #Substraction of interger\n",
    "print(50 - 20)          #Substraction of interger\n",
    "print(100 - 200)        #Substraction of interger\n",
    "print(80.88 - 60.88)    #Substraction of Float\n",
    "print(100.20 - 100)     #Substraction of Float\n",
    "print(70.23 - 23)       #Substraction of Float"
   ]
  },
  {
   "cell_type": "markdown",
   "metadata": {},
   "source": [
    "#### Exponetial in python is been done using (* *) eg 2 * * 4 meaning 2^4"
   ]
  },
  {
   "cell_type": "code",
   "execution_count": 3,
   "metadata": {},
   "outputs": [
    {
     "name": "stdout",
     "output_type": "stream",
     "text": [
      "43046721\n",
      "316478381828866048\n",
      "128\n",
      "16\n",
      "453277953695091.1\n",
      "5.841865667582299e+21\n",
      "8.158500073341312e+29\n",
      "705.236299563518\n"
     ]
    }
   ],
   "source": [
    "#EXPONETIAL\n",
    "\n",
    "print(9 ** 8)\n",
    "print(88 ** 9)\n",
    "print(2 ** 7)\n",
    "print(4 ** 2)\n",
    "print(4.23 ** 23.4)\n",
    "print(7.25 ** 25.30)\n",
    "print(28.50 ** 20.56)\n",
    "print(25.30 ** 2.03)"
   ]
  },
  {
   "cell_type": "markdown",
   "metadata": {},
   "source": [
    "#### DIVISION, FLOOR DIVISION AND MODULO"
   ]
  },
  {
   "cell_type": "code",
   "execution_count": 7,
   "metadata": {},
   "outputs": [
    {
     "name": "stdout",
     "output_type": "stream",
     "text": [
      "5.0\n",
      "10.0\n",
      "50.0\n",
      "0.7246376811594203\n",
      "3.0\n",
      "____________________________________________________________________________________________\n",
      "5\n",
      "10\n",
      "50\n",
      "0\n",
      "3\n",
      "____________________________________________________________________________________________\n",
      "0\n",
      "6\n",
      "1\n",
      "1\n",
      "1\n",
      "50\n",
      "0\n",
      "____________________________________________________________________________________________\n"
     ]
    }
   ],
   "source": [
    "#DIVISION(/) Division in python will return the value in float number \n",
    "\n",
    "print(10 / 2)\n",
    "print(20 / 2)\n",
    "print(100 / 2)\n",
    "print(50 / 69)\n",
    "print(60 / 20)\n",
    "print(\"____________________________________________________________________________________________\")\n",
    "\n",
    "#FLOOR DIVISION (//): This type of division chop off the number after decimal point on the right hand side of return value\n",
    "\n",
    "print(10 // 2)\n",
    "print(20 // 2)\n",
    "print(100 // 2)\n",
    "print(50 // 69)\n",
    "print(60 // 20)\n",
    "print(\"____________________________________________________________________________________________\")\n",
    "\n",
    "#MODULO(%): Modulo means Remender. This type of Division only retun the value of the remender from the results\n",
    "print(80 % 5)\n",
    "print(90 % 7)\n",
    "print(103 % 2)\n",
    "print(205 % 2)\n",
    "print(113 % 2)\n",
    "print(50 % 69)\n",
    "print(60 % 20)\n",
    "print(\"____________________________________________________________________________________________\")"
   ]
  },
  {
   "cell_type": "markdown",
   "metadata": {},
   "source": [
    "#### DATA TYPE IN PYTHON "
   ]
  },
  {
   "cell_type": "code",
   "execution_count": null,
   "metadata": {},
   "outputs": [
    {
     "name": "stdout",
     "output_type": "stream",
     "text": [
      "<class 'int'>\n",
      "<class 'str'>\n",
      "<class 'float'>\n",
      "<class 'str'>\n",
      "<class 'list'>\n",
      "<class 'complex'>\n",
      "<class 'tuple'>\n",
      "<class 'dict'>\n",
      "<class 'dict'>\n",
      "<class 'set'>\n",
      "<class 'set'>\n",
      "<class 'bool'>\n",
      "<class 'bool'>\n",
      "<class 'bool'>\n",
      "<class 'bool'>\n",
      "<class 'int'>\n"
     ]
    }
   ],
   "source": [
    "#Checking Data Types\n",
    "\n",
    "print(type(3))                              #int\n",
    "print(type(\"36\"))                           #str\n",
    "print(type(3.8))                            #float\n",
    "print(type(\"Abdulrahman\"))                  #str\n",
    "print(type([\"asiha\", \"jemila\"]))            #list\n",
    "print(type(3 + 4j))                         #Complex\n",
    "print(type((9.2, 25.0, 40)))                #Tuple\n",
    "print(type({'name': 'Abdulrahman'}))        #Dictonary\n",
    "print(type({50:30}))                        #Dictonary\n",
    "print(type({36.6, 89, 50}))                 #Set\n",
    "print(type({'name', 'abas', 'suleiman'}))   #set\n",
    "print(type(3 > 5))                          #Bolean\n",
    "print(type(50 >= 20))                       #Bolean \n",
    "print(type(50 <= 50))                       #Bolean\n",
    "print(type(10 != 50))                       #Bolean\n",
    "\n"
   ]
  }
 ],
 "metadata": {
  "kernelspec": {
   "display_name": "Arewa-work-space",
   "language": "python",
   "name": "python3"
  },
  "language_info": {
   "codemirror_mode": {
    "name": "ipython",
    "version": 3
   },
   "file_extension": ".py",
   "mimetype": "text/x-python",
   "name": "python",
   "nbconvert_exporter": "python",
   "pygments_lexer": "ipython3",
   "version": "3.12.7"
  }
 },
 "nbformat": 4,
 "nbformat_minor": 2
}
