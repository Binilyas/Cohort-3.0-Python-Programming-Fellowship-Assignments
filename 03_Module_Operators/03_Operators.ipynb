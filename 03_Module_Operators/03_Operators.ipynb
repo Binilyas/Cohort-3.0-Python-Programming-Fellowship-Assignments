{
 "cells": [
  {
   "cell_type": "markdown",
   "metadata": {},
   "source": [
    "### WELCOME TO MY MODULE (3) OF 30-DAYS OF PYTHON PROGRAMMING"
   ]
  },
  {
   "cell_type": "markdown",
   "metadata": {
    "vscode": {
     "languageId": "plaintext"
    }
   },
   "source": [
    "## 💻 Exercises - Module 3"
   ]
  },
  {
   "cell_type": "markdown",
   "metadata": {},
   "source": [
    "1. Declare your age as integer variable"
   ]
  },
  {
   "cell_type": "code",
   "execution_count": 38,
   "metadata": {},
   "outputs": [],
   "source": [
    "age = 26"
   ]
  },
  {
   "cell_type": "markdown",
   "metadata": {},
   "source": [
    "2. Declare your height as a float variable"
   ]
  },
  {
   "cell_type": "code",
   "execution_count": 39,
   "metadata": {},
   "outputs": [],
   "source": [
    "height = 1.78"
   ]
  },
  {
   "cell_type": "markdown",
   "metadata": {},
   "source": [
    "3. Declare a variable that store a complex number"
   ]
  },
  {
   "cell_type": "code",
   "execution_count": 40,
   "metadata": {},
   "outputs": [],
   "source": [
    "complex_number = (3 + 5j)"
   ]
  },
  {
   "cell_type": "markdown",
   "metadata": {},
   "source": [
    "4. Write a script that prompts the user to enter base and height of the triangle and calculate an area of this triangle (area = 0.5 x b x h)."
   ]
  },
  {
   "cell_type": "code",
   "execution_count": 41,
   "metadata": {},
   "outputs": [
    {
     "name": "stdout",
     "output_type": "stream",
     "text": [
      "715.0\n",
      "715.0\n"
     ]
    }
   ],
   "source": [
    "b = int(input(\"Enter the Base Value\"))\n",
    "h = int(input(\"Enter the height Value\"))\n",
    "area = 0.5\n",
    "print(area * b * h)\n",
    "print(0.5 * b * h)"
   ]
  },
  {
   "cell_type": "markdown",
   "metadata": {},
   "source": [
    "5. Write a script that prompts the user to enter side a, side b, and side c of the triangle. Calculate the perimeter of the triangle (perimeter = a + b + c)"
   ]
  },
  {
   "cell_type": "code",
   "execution_count": 42,
   "metadata": {},
   "outputs": [
    {
     "name": "stdout",
     "output_type": "stream",
     "text": [
      "181\n"
     ]
    }
   ],
   "source": [
    "a = int(input(\"Enter side a of a triangle\"))\n",
    "b = int(input(\"Enter side b of a triangle\"))\n",
    "c = int(input(\"Enter side c of a triangle\"))\n",
    "primeter_of_triangle = a + b + c\n",
    "print(primeter_of_triangle)"
   ]
  },
  {
   "cell_type": "markdown",
   "metadata": {},
   "source": [
    "6. Get length and width of a rectangle using prompt. Calculate its area (area = length x width) and perimeter (perimeter = 2 x (length + width))"
   ]
  },
  {
   "cell_type": "code",
   "execution_count": 43,
   "metadata": {},
   "outputs": [
    {
     "name": "stdout",
     "output_type": "stream",
     "text": [
      "115\n",
      "56\n"
     ]
    }
   ],
   "source": [
    "length = int(input(\"Enter the Value of Length\"))\n",
    "width = int(input(\"Enter the Value of width\"))\n",
    "area = (length * width)\n",
    "perimeter = 2 *(length + width)\n",
    "\n",
    "print(area)\n",
    "print(perimeter)"
   ]
  },
  {
   "cell_type": "markdown",
   "metadata": {},
   "source": [
    "7. Get radius of a circle using prompt. Calculate the area (area = pi x r x r) and circumference (c = 2 x pi x r) where pi = 3.14."
   ]
  },
  {
   "cell_type": "code",
   "execution_count": 44,
   "metadata": {},
   "outputs": [
    {
     "name": "stdout",
     "output_type": "stream",
     "text": [
      "8820.26\n",
      "332.84000000000003\n"
     ]
    }
   ],
   "source": [
    "r = int(input(\"Enter the value of radius\"))\n",
    "pi = 3.14\n",
    "area_of_circle = (pi * r * r)\n",
    "circumference = (2 * pi * r)\n",
    "\n",
    "print(area_of_circle)\n",
    "print(circumference)"
   ]
  },
  {
   "cell_type": "markdown",
   "metadata": {},
   "source": [
    "8. Calculate the slope, x-intercept and y-intercept of y = 2x -2"
   ]
  },
  {
   "cell_type": "code",
   "execution_count": 45,
   "metadata": {},
   "outputs": [
    {
     "name": "stdout",
     "output_type": "stream",
     "text": [
      "Slope(M): 2\n",
      "y_intercept(b): -2\n",
      "x_intercept: 1.0\n"
     ]
    }
   ],
   "source": [
    "#THE GENERAL FORMULA IS (y = mx + b)\n",
    "#THE SLOPE(M)\n",
    "#The Slope is the coefficient of x which is \n",
    "slope = 2\n",
    "\n",
    "#y_intercept(b): The y_intercept(b) is the constant term which is \n",
    "intercept_B = -2\n",
    "\n",
    "#x_intercept:\n",
    "x_intercept = -intercept_B / slope\n",
    "\n",
    "print(f'Slope(M): {slope}')\n",
    "print(f'y_intercept(b): {intercept_B}')\n",
    "print(f'x_intercept: {x_intercept}')\n"
   ]
  },
  {
   "cell_type": "markdown",
   "metadata": {},
   "source": [
    "9. Slope is (m = y2-y1/x2-x1). Find the slope and [Euclidean distance](https://en.wikipedia.org/wiki/Euclidean_distance#:~:text=In%20mathematics%2C%20the%20Euclidean%20distance,being%20called%20the%20Pythagorean%20distance.) between point (2, 2) and point (6,10) "
   ]
  },
  {
   "cell_type": "code",
   "execution_count": 46,
   "metadata": {},
   "outputs": [
    {
     "name": "stdout",
     "output_type": "stream",
     "text": [
      "The Sope Based on the parameter is: 7.666666666666666\n"
     ]
    }
   ],
   "source": [
    "#TH SLOPE IS GIVEN TO BE:\n",
    "#Slope(m) = (y2 - y1 /x2 - x1)\n",
    "\n",
    "# Define the coordinates\n",
    "x1, y1 = 2, 2       # Point 1 (x1, y1)\n",
    "x2, y2 = 6, 10      # Point 2 (x2, y2)\n",
    " \n",
    "\n",
    "slope_m = (y2 - y1 /x2 - x1)\n",
    "print(f'The Sope Based on the parameter is:', slope_m)\n",
    "\n"
   ]
  },
  {
   "cell_type": "markdown",
   "metadata": {},
   "source": [
    "9. THE EUCLIDEAN DISTANCE BETWEEN POINT (2,2) AND POINT (6, 10)"
   ]
  },
  {
   "cell_type": "code",
   "execution_count": 47,
   "metadata": {},
   "outputs": [
    {
     "name": "stdout",
     "output_type": "stream",
     "text": [
      "The Eculidean Distance is : 8.94427190999916\n"
     ]
    }
   ],
   "source": [
    "#Define the point \n",
    "x1, x2 = 2, 6\n",
    "y2, y1 = 10, 2\n",
    "\n",
    "#Calculate the Euclidean Distance. The Euclidean formula is given to: D**2 = (x2 - x1)**2 + (y2 - y1)**2\n",
    "import math \n",
    "Euclidean_Distance = math.sqrt ((x2 - x1)**2 + (y2 - y1)**2)\n",
    "print(f'The Eculidean Distance is : {Euclidean_Distance}')\n"
   ]
  },
  {
   "cell_type": "markdown",
   "metadata": {},
   "source": [
    "10. Compare the slopes in tasks 8 and 9."
   ]
  },
  {
   "cell_type": "code",
   "execution_count": 48,
   "metadata": {},
   "outputs": [
    {
     "name": "stdout",
     "output_type": "stream",
     "text": [
      "Slope 8 is less than Slope 9\n"
     ]
    }
   ],
   "source": [
    "#Compare the slopes in tasks 8 and 9.\n",
    "slope_1 = 2\n",
    "slope_2 = 7.67\n",
    "if slope_1 == slope_2:\n",
    "    print(\"Slope 8 and Slope 9 Are Equal\")\n",
    "elif slope_1 > slope_2:\n",
    "    print(\"Slope 8 is greater than 9 \")\n",
    "elif slope_1 < slope_2:\n",
    "    print(\"Slope 8 is less than Slope 9\")\n",
    "else:\n",
    "    print(\"All Statement are wrong\")"
   ]
  },
  {
   "cell_type": "markdown",
   "metadata": {},
   "source": [
    "11. Calculate the value of y (y = x^2 + 6x + 9). Try to use different x values and figure out at what x value y is going to be 0.11. "
   ]
  },
  {
   "cell_type": "code",
   "execution_count": 49,
   "metadata": {},
   "outputs": [
    {
     "name": "stdout",
     "output_type": "stream",
     "text": [
      "Y = 4 at X = -5\n",
      "Y = 1 at X = -4\n",
      "Y = 0 at X = -3\n",
      "Y = 1 at X = -2\n",
      "Y = 4 at X = -1\n",
      "Y = 9 at X = 0\n",
      "Y = 16 at X = 1\n",
      "Y = 25 at X = 2\n",
      "Y = 36 at X = 3\n",
      "Y = 49 at X = 4\n"
     ]
    }
   ],
   "source": [
    "#Calculate the value of y (y = x^2 + 6x + 9). Try to use different x values and figure out at what x value y is going to be 0.\n",
    "#first create list of X_value rang from (-5, 5). The using this formula state above\n",
    "for x in range(-5, 5):\n",
    "    y = x**2 + 6*x + 9\n",
    "    print(f'Y = {y} at X = {x}')\n"
   ]
  },
  {
   "cell_type": "code",
   "execution_count": 50,
   "metadata": {},
   "outputs": [
    {
     "name": "stdout",
     "output_type": "stream",
     "text": [
      "x = -5, y = 4\n",
      "x = -4, y = 1\n",
      "x = -3, y = 0\n",
      "x = -2, y = 1\n",
      "x = -1, y = 4\n",
      "x = 0, y = 9\n",
      "x = 1, y = 16\n",
      "x = 2, y = 25\n",
      "x = 3, y = 36\n",
      "y is 0 when x = -3\n"
     ]
    }
   ],
   "source": [
    "#11. Calculate the value of y (y = x^2 + 6x + 9). Try to use different x values and figure out at what x value y is going to be 0.11.\n",
    "#Method 2\n",
    "#Involves creating your own function\n",
    "# Define the function\n",
    "def calculate_y(x):\n",
    "    return x**2 + 6*x + 9\n",
    "\n",
    "# Test for different x values\n",
    "x_values = [-5, -4, -3, -2, -1, 0, 1, 2, 3]\n",
    "results = [(x, calculate_y(x)) for x in x_values]\n",
    "\n",
    "# Print results\n",
    "for x, y in results:\n",
    "    print(f\"x = {x}, y = {y}\")\n",
    "\n",
    "# Determine when y = 0\n",
    "x_zero = -3  # From solving (x + 3)^2 = 0\n",
    "print(f\"y is 0 when x = {x_zero}\")\n"
   ]
  },
  {
   "cell_type": "markdown",
   "metadata": {},
   "source": [
    "12. Find the length of 'python' and 'dragon' and make a falsy comparison statement"
   ]
  },
  {
   "cell_type": "code",
   "execution_count": 51,
   "metadata": {},
   "outputs": [
    {
     "name": "stdout",
     "output_type": "stream",
     "text": [
      "The length of python is: 6\n",
      "The length of Dragon is:  6\n",
      "All statement are false\n"
     ]
    }
   ],
   "source": [
    "#Find the length of 'python' and 'dragon' and make a falsy comparison statement\n",
    "len_python = len(\"python\")\n",
    "len_dragon = len(\"dragon\")\n",
    "\n",
    "print(f'The length of python is:', len_python)\n",
    "print(f'The length of Dragon is: ', len_dragon)\n",
    "\n",
    "#falsy comparison statement\n",
    "if len_python > len_dragon:\n",
    "    print(\"Python is a very hard programming language\")\n",
    "elif len_dragon < len_python:\n",
    "    print(\"Dragon never exist\")\n",
    "else:\n",
    "    print(\"All statement are false\")"
   ]
  },
  {
   "cell_type": "markdown",
   "metadata": {},
   "source": [
    "13. Use _and_ operator to check if 'on' is found in both 'python' and 'dragon'"
   ]
  },
  {
   "cell_type": "code",
   "execution_count": 52,
   "metadata": {},
   "outputs": [
    {
     "name": "stdout",
     "output_type": "stream",
     "text": [
      "ON exist in Both\n"
     ]
    }
   ],
   "source": [
    "#Use _and_ operator to check if 'on' is found in both 'python' and 'dragon'\n",
    "if 'on' in'python' and 'dragon':\n",
    "    print(\"ON exist in Both\")\n",
    "else:\n",
    "    print(\"ON does not exist in Both\")"
   ]
  },
  {
   "cell_type": "markdown",
   "metadata": {},
   "source": [
    "14. _I hope this course is not full of jargon_. Use _in_ operator to check if _jargon_ is in the sentence."
   ]
  },
  {
   "cell_type": "code",
   "execution_count": 53,
   "metadata": {},
   "outputs": [
    {
     "name": "stdout",
     "output_type": "stream",
     "text": [
      "YES Jargon Exist in the sentences\n"
     ]
    }
   ],
   "source": [
    "#_I hope this course is not full of jargon_. Use _in_ operator to check if _jargon_ is in the sentence.\n",
    "if \"jargon\" in 'I hope this course is not full of jargon':\n",
    "    print(\"YES Jargon Exist in the sentences\")\n",
    "else:\n",
    "    print(\"NO Jargon does not exist\")"
   ]
  },
  {
   "cell_type": "markdown",
   "metadata": {},
   "source": [
    "15. There is no 'on' in both dragon and python"
   ]
  },
  {
   "cell_type": "code",
   "execution_count": 54,
   "metadata": {},
   "outputs": [
    {
     "name": "stdout",
     "output_type": "stream",
     "text": [
      "Yes in can be found in Both\n"
     ]
    }
   ],
   "source": [
    "#There is no 'on' in both dragon and python\n",
    "if \"on\" in \"python\" and \"dragon\":\n",
    "    print(\"Yes in can be found in Both\")\n",
    "else:\n",
    "    print(\"No it cannot be found in both\")"
   ]
  },
  {
   "cell_type": "markdown",
   "metadata": {},
   "source": [
    "16. Find the length of the text _python_ and convert the value to float and convert it to string"
   ]
  },
  {
   "cell_type": "code",
   "execution_count": 55,
   "metadata": {},
   "outputs": [
    {
     "name": "stdout",
     "output_type": "stream",
     "text": [
      "The Length of Python is: 6\n",
      "6.0\n",
      "6\n"
     ]
    }
   ],
   "source": [
    "#Find the length of the text _python_ and convert the value to float and convert it to string\n",
    "length_python = len(\"Python\")\n",
    "print(f\"The Length of Python is:\", length_python)\n",
    "\n",
    "#THE FLOAT\n",
    "print(float(length_python))\n",
    "\n",
    "#TH STRING\n",
    "print(str(length_python))"
   ]
  },
  {
   "cell_type": "markdown",
   "metadata": {},
   "source": [
    "17. Even numbers are divisible by 2 and the remainder is zero. How do you check if a number is even or not using python?"
   ]
  },
  {
   "cell_type": "code",
   "execution_count": 56,
   "metadata": {},
   "outputs": [
    {
     "name": "stdout",
     "output_type": "stream",
     "text": [
      "It is NOT an even Number\n"
     ]
    }
   ],
   "source": [
    "#Even numbers are divisible by 2 and the remainder is zero. How do you check if a number is even or not using python?\n",
    "num = int(input(\"Enter the number: \"))\n",
    "if num / 2 == 0:\n",
    "    print(\"It is an Even Number\")\n",
    "else:\n",
    "    print(\"It is NOT an even Number\")"
   ]
  },
  {
   "cell_type": "markdown",
   "metadata": {},
   "source": [
    "18. Check if the floor division of 7 by 3 is equal to the int converted value of 2.7."
   ]
  },
  {
   "cell_type": "code",
   "execution_count": 57,
   "metadata": {},
   "outputs": [
    {
     "name": "stdout",
     "output_type": "stream",
     "text": [
      "There are the Same Number\n"
     ]
    }
   ],
   "source": [
    "#Check if the floor division of 7 by 3 is equal to the int converted value of 2.7.\n",
    "floor_div = 7 // 3\n",
    "if floor_div == int(2.33):\n",
    "    print(\"There are the Same Number\")\n",
    "else:\n",
    "    print(\"One number is greater than the number\")"
   ]
  },
  {
   "cell_type": "markdown",
   "metadata": {},
   "source": [
    "19. Check if type of '10' is equal to type of 10"
   ]
  },
  {
   "cell_type": "code",
   "execution_count": 58,
   "metadata": {},
   "outputs": [
    {
     "name": "stdout",
     "output_type": "stream",
     "text": [
      "There of the same type\n"
     ]
    }
   ],
   "source": [
    "#Check if type of '10' is equal to type of 10\n",
    "if 10 == 10:\n",
    "    print(\"There of the same type\")\n",
    "else:\n",
    "    print(\"There of different types\")\n"
   ]
  },
  {
   "cell_type": "markdown",
   "metadata": {},
   "source": [
    "20. Check if int('9.8') is equal to 10"
   ]
  },
  {
   "cell_type": "code",
   "execution_count": 59,
   "metadata": {},
   "outputs": [
    {
     "name": "stdout",
     "output_type": "stream",
     "text": [
      "Both number are Not Equal\n"
     ]
    }
   ],
   "source": [
    "#Check if int('9.8') is equal to 10\n",
    "\n",
    "if int(9.8) == 10:\n",
    "    print(\"The both number are equal\")\n",
    "else:\n",
    "    print(\"Both number are Not Equal\")"
   ]
  },
  {
   "cell_type": "markdown",
   "metadata": {},
   "source": [
    "21. Writ a script that prompts the user to enter hours and rate per hour. Calculate pay of the person?"
   ]
  },
  {
   "cell_type": "code",
   "execution_count": 61,
   "metadata": {},
   "outputs": [
    {
     "name": "stdout",
     "output_type": "stream",
     "text": [
      "Enter Hours:  50.0\n",
      "Enter Rate per Hours: 3000\n",
      "Your weekly earning is: 150000.0\n"
     ]
    }
   ],
   "source": [
    "#Writ a script that prompts the user to enter hours and rate per hour. Calculate pay of the person?\n",
    "\n",
    "hour_of_work = float(input(\"How many Hours Did You Work? \"))\n",
    "rate = int(input(\"How much Did you earn per Hour? \"))\n",
    "print(f'Enter Hours: ', hour_of_work)\n",
    "print(f\"Enter Rate per Hours:\", rate)\n",
    "\n",
    "print(\"Your weekly earning is:\", hour_of_work * rate)"
   ]
  },
  {
   "cell_type": "markdown",
   "metadata": {},
   "source": [
    "22. Write a script that prompts the user to enter number of years. Calculate the number of seconds a person can live. Assume a person can live hundred years"
   ]
  },
  {
   "cell_type": "code",
   "execution_count": 64,
   "metadata": {},
   "outputs": [
    {
     "name": "stdout",
     "output_type": "stream",
     "text": [
      "You have lived:  for 819936000 Second\n"
     ]
    }
   ],
   "source": [
    "#Write a script that prompts the user to enter number of years. Calculate the number of seconds a person can live. Assume a person can live hundred years\n",
    "\n",
    "years = int(input(\"Enters the years you have lived\"))\n",
    "years_in_second = years * 60 * 60 * 24 * 365\n",
    "print(f\"You have lived: \", \"for\", years_in_second, \"Second\")"
   ]
  },
  {
   "cell_type": "markdown",
   "metadata": {},
   "source": [
    "23.  Write a Python script that displays the following table"
   ]
  },
  {
   "cell_type": "code",
   "execution_count": 65,
   "metadata": {},
   "outputs": [
    {
     "name": "stdout",
     "output_type": "stream",
     "text": [
      "1 1 1 1\n",
      "2 1 4 8\n",
      "3 1 9 27\n",
      "4 1 16 64\n",
      "5 1 25 125\n"
     ]
    }
   ],
   "source": [
    "#23. Write a Python script that displays the following table\n",
    "#1 1 1 1 1\n",
    "#2 1 2 4 8\n",
    "#3 1 3 9 27\n",
    "#4 1 4 16 64\n",
    "#5 1 5 25 125\n",
    "\n",
    "\n",
    "for i in range(1,6):\n",
    "    print(i, int(i/i), i**2, i**3 )"
   ]
  },
  {
   "cell_type": "markdown",
   "metadata": {},
   "source": [
    "## COMPLETE MODULE 3"
   ]
  }
 ],
 "metadata": {
  "kernelspec": {
   "display_name": "Arewa-work-space",
   "language": "python",
   "name": "python3"
  },
  "language_info": {
   "codemirror_mode": {
    "name": "ipython",
    "version": 3
   },
   "file_extension": ".py",
   "mimetype": "text/x-python",
   "name": "python",
   "nbconvert_exporter": "python",
   "pygments_lexer": "ipython3",
   "version": "3.12.7"
  }
 },
 "nbformat": 4,
 "nbformat_minor": 2
}
